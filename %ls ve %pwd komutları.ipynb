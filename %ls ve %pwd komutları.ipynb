{
 "cells": [
  {
   "cell_type": "code",
   "execution_count": 1,
   "id": "6b19e628",
   "metadata": {},
   "outputs": [
    {
     "name": "stdout",
     "output_type": "stream",
     "text": [
      " Volume in drive C is Yerel Disk\n",
      " Volume Serial Number is 68CC-4020\n",
      "\n",
      " Directory of C:\\Users\\HP\\Documents\\Python Scripts\n",
      "\n",
      "06.06.2022  19:13    <DIR>          .\n",
      "06.06.2022  19:13    <DIR>          ..\n",
      "06.06.2022  19:12    <DIR>          .ipynb_checkpoints\n",
      "08.04.2022  12:00             3.059 3.04.2022.ipynb\n",
      "27.02.2022  13:41             5.469 cal�Ÿma1.ipynb\n",
      "04.04.2022  11:03             6.400 class ‡al�Ÿmalar�.ipynb\n",
      "06.06.2022  19:13             4.886 class yap�s�.ipynb\n",
      "06.06.2022  19:03            10.061 ‡al�Ÿma dosyas�.ipynb\n",
      "03.04.2022  15:12             9.711 ”dev yap�m�.ipynb\n",
      "07.04.2022  06:27             6.854 request.ipynb\n",
      "27.02.2022  14:05             5.568 Untitled.ipynb\n",
      "               8 File(s)         52.008 bytes\n",
      "               3 Dir(s)  337.577.009.152 bytes free\n"
     ]
    }
   ],
   "source": [
    "%ls"
   ]
  },
  {
   "cell_type": "code",
   "execution_count": 2,
   "id": "24122621",
   "metadata": {},
   "outputs": [
    {
     "data": {
      "text/plain": [
       "'C:\\\\Users\\\\HP\\\\Documents\\\\Python Scripts'"
      ]
     },
     "execution_count": 2,
     "metadata": {},
     "output_type": "execute_result"
    }
   ],
   "source": [
    "%pwd"
   ]
  },
  {
   "cell_type": "code",
   "execution_count": null,
   "id": "46dc3803",
   "metadata": {},
   "outputs": [],
   "source": [
    "from tkinter import*\n",
    "\n",
    "mas = Tk()\n",
    "canvas = Canvas(mas,height=500,width=800)\n",
    "canvas.pack()\n",
    "frame_ust = Frame(mas,bg='light blue')\n",
    "frame_ust.place(relx=0.1,rely=0.1,relwidth=0.8,relheight=0.1)\n",
    "frame_sol_alt = Frame(mas,bg='light blue')\n",
    "frame_sol_alt.place(relx=0.1,rely=0.21,relwidth=0.23,relheight=0.5)\n",
    "frame_sag_alt = Frame(mas,bg='light blue')\n",
    "frame_sag_alt.place(relx=0.34,rely=0.21,relwidth=0.56,relheight=0.5)\n",
    "\n",
    "hatırlatma_tipi_etiketi = Label(frame_ust,bg='#add8e6', text = 'Hatırlatma tipi:', font = 'Verdane 13 bold')\n",
    "hatırlatma_tipi_etiketi.pack(padx=10, pady=10, side= LEFT)\n",
    "mas.mainloop()"
   ]
  },
  {
   "cell_type": "code",
   "execution_count": null,
   "id": "2ea6779d",
   "metadata": {},
   "outputs": [],
   "source": []
  }
 ],
 "metadata": {
  "kernelspec": {
   "display_name": "Python 3 (ipykernel)",
   "language": "python",
   "name": "python3"
  },
  "language_info": {
   "codemirror_mode": {
    "name": "ipython",
    "version": 3
   },
   "file_extension": ".py",
   "mimetype": "text/x-python",
   "name": "python",
   "nbconvert_exporter": "python",
   "pygments_lexer": "ipython3",
   "version": "3.9.7"
  }
 },
 "nbformat": 4,
 "nbformat_minor": 5
}
