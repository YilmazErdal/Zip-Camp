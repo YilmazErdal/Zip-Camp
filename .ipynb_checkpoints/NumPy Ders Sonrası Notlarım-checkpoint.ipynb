{
 "cells": [
  {
   "cell_type": "code",
   "execution_count": 1,
   "id": "c1e13f3e-fe06-4f6c-9083-684fe6f7db04",
   "metadata": {},
   "outputs": [],
   "source": [
    "import numpy as np"
   ]
  },
  {
   "cell_type": "code",
   "execution_count": 2,
   "id": "c3c179cb-b3fe-419d-837f-6d997c6fe55f",
   "metadata": {},
   "outputs": [],
   "source": [
    "list1 = [2,4,6,8]"
   ]
  },
  {
   "cell_type": "code",
   "execution_count": 3,
   "id": "93f63625-ce16-4258-a194-c2b9f466e738",
   "metadata": {},
   "outputs": [],
   "source": [
    "list2 = [10,12,14,16]"
   ]
  },
  {
   "cell_type": "code",
   "execution_count": 4,
   "id": "53a5bbf9-79c9-4a96-8efa-221934681597",
   "metadata": {},
   "outputs": [],
   "source": [
    "list1 = np.array(list1)\n",
    "list2 = np.array(list2)"
   ]
  },
  {
   "cell_type": "code",
   "execution_count": 70,
   "id": "d82449ce-c481-4a1e-a08d-4668f0d60f87",
   "metadata": {},
   "outputs": [
    {
     "name": "stdout",
     "output_type": "stream",
     "text": [
      "[ 20  48  84 128]\n"
     ]
    }
   ],
   "source": [
    "print(list1*list2) #Listeleri arrayler haline döndürüp kolayca çarptık"
   ]
  },
  {
   "cell_type": "code",
   "execution_count": null,
   "id": "e15f86b6-4bbb-45f5-906e-4b11523ce899",
   "metadata": {},
   "outputs": [],
   "source": [
    "liste = np.array([1,5,6]) #Array oluşturduk 1,5,6 elemanlarından oluşan"
   ]
  },
  {
   "cell_type": "code",
   "execution_count": 12,
   "id": "7e8eed69-e201-47d2-8a98-83f80502aaf5",
   "metadata": {},
   "outputs": [
    {
     "data": {
      "text/plain": [
       "array([[ 1,  5,  7],\n",
       "       [11,  2, 85]])"
      ]
     },
     "execution_count": 12,
     "metadata": {},
     "output_type": "execute_result"
    }
   ],
   "source": [
    "liste = np.array([1,5,7,11,2,85])\n",
    "liste.reshape(2,3)"
   ]
  },
  {
   "cell_type": "code",
   "execution_count": 40,
   "id": "b5ff2146-d22e-4e32-8c05-3461fd7aa30b",
   "metadata": {},
   "outputs": [
    {
     "data": {
      "text/plain": [
       "array([ 0,  1,  2,  3,  4,  5,  6,  7,  8,  9, 10, 11, 12, 13, 14, 15, 16,\n",
       "       17, 18, 19, 20, 21, 22, 23, 24, 25, 26, 27, 28, 29, 30, 31, 32, 33,\n",
       "       34, 35, 36, 37, 38, 39, 40, 41, 42, 43, 44, 45, 46, 47, 48, 49, 50,\n",
       "       51, 52, 53, 54, 55, 56, 57, 58, 59, 60, 61, 62, 63, 64, 65, 66, 67,\n",
       "       68, 69, 70, 71, 72, 73, 74, 75, 76, 77, 78, 79, 80, 81, 82, 83, 84,\n",
       "       85, 86, 87, 88, 89, 90, 91, 92, 93, 94, 95, 96, 97, 98, 99])"
      ]
     },
     "execution_count": 40,
     "metadata": {},
     "output_type": "execute_result"
    }
   ],
   "source": [
    "listee = np.arange(100) #1'den 100'e kadar(son eleman dahil değil) düzenli artan int değerleriyle hızlıca bir boyutlu array oluşturduk.Başlangıç noktası girmediğimiz için default değeri 1\n",
    "listee"
   ]
  },
  {
   "cell_type": "code",
   "execution_count": 41,
   "id": "9f4e118b-470b-42a9-95a2-3d36050ecd13",
   "metadata": {},
   "outputs": [
    {
     "data": {
      "text/plain": [
       "array([[[ 0,  1,  2,  3],\n",
       "        [ 4,  5,  6,  7],\n",
       "        [ 8,  9, 10, 11]],\n",
       "\n",
       "       [[12, 13, 14, 15],\n",
       "        [16, 17, 18, 19],\n",
       "        [20, 21, 22, 23]]])"
      ]
     },
     "execution_count": 41,
     "metadata": {},
     "output_type": "execute_result"
    }
   ],
   "source": [
    "liste2 = np.arange(24).reshape(2,3,4) #Gene 'arange' komutuyla 1'den 24'e tek boyutlu kadar değerler oluşturduk, ardından 'reshape' komutuyla tek boyutlu array'imizi yeniden şekillendirip 3 boyutlu bir array yaptık.\n",
    "liste2"
   ]
  },
  {
   "cell_type": "code",
   "execution_count": 16,
   "id": "f5cb1878-862e-41ec-b9ea-613736e57c9f",
   "metadata": {},
   "outputs": [
    {
     "data": {
      "text/plain": [
       "3"
      ]
     },
     "execution_count": 16,
     "metadata": {},
     "output_type": "execute_result"
    }
   ],
   "source": [
    "liste2.ndim #ndim komutu kaç boyutlu olduğunu gösteriyor"
   ]
  },
  {
   "cell_type": "code",
   "execution_count": 19,
   "id": "313aaf86-1874-4bb7-86d4-257855bbe24d",
   "metadata": {},
   "outputs": [
    {
     "data": {
      "text/plain": [
       "array([[[  0,   1,   2,   3,   4,   5,   6,   7,   8,   9,  10,  11],\n",
       "        [ 12,  13,  14,  15,  16,  17,  18,  19,  20,  21,  22,  23],\n",
       "        [ 24,  25,  26,  27,  28,  29,  30,  31,  32,  33,  34,  35],\n",
       "        [ 36,  37,  38,  39,  40,  41,  42,  43,  44,  45,  46,  47],\n",
       "        [ 48,  49,  50,  51,  52,  53,  54,  55,  56,  57,  58,  59]],\n",
       "\n",
       "       [[ 60,  61,  62,  63,  64,  65,  66,  67,  68,  69,  70,  71],\n",
       "        [ 72,  73,  74,  75,  76,  77,  78,  79,  80,  81,  82,  83],\n",
       "        [ 84,  85,  86,  87,  88,  89,  90,  91,  92,  93,  94,  95],\n",
       "        [ 96,  97,  98,  99, 100, 101, 102, 103, 104, 105, 106, 107],\n",
       "        [108, 109, 110, 111, 112, 113, 114, 115, 116, 117, 118, 119]]])"
      ]
     },
     "execution_count": 19,
     "metadata": {},
     "output_type": "execute_result"
    }
   ],
   "source": [
    "liste3 = np.arange(120).reshape(2,5,12)\n",
    "liste3"
   ]
  },
  {
   "cell_type": "code",
   "execution_count": 42,
   "id": "c6e993cc-9f2b-41e5-96f0-a01d0d1617f0",
   "metadata": {},
   "outputs": [
    {
     "data": {
      "text/plain": [
       "array([ 1,  3,  5,  7,  9, 11, 13, 15, 17, 19, 21, 23, 25, 27, 29, 31, 33,\n",
       "       35, 37, 39, 41, 43, 45, 47, 49, 51, 53, 55, 57, 59, 61, 63, 65, 67,\n",
       "       69, 71, 73, 75, 77, 79, 81, 83, 85, 87, 89, 91, 93, 95, 97, 99])"
      ]
     },
     "execution_count": 42,
     "metadata": {},
     "output_type": "execute_result"
    }
   ],
   "source": [
    "liste4 = np.arange(start = 1 , stop = 101 , step = 2) #Step attribute'u sayesinde belirlediğimiz aralıkta gezerken atlama miktarını belirleyebiliyoruz.\n",
    "liste4"
   ]
  },
  {
   "cell_type": "code",
   "execution_count": 45,
   "id": "f00e43db-e40f-48cb-9472-b971aaef9020",
   "metadata": {},
   "outputs": [
    {
     "data": {
      "text/plain": [
       "array([0., 0., 0., 0., 0., 0., 0., 0., 0., 0., 0., 0., 0., 0., 0., 0., 0.,\n",
       "       0., 0., 0., 0., 0., 0., 0.])"
      ]
     },
     "execution_count": 45,
     "metadata": {},
     "output_type": "execute_result"
    }
   ],
   "source": [
    "listSıfır = np.zeros(24) #np.zeros komutu 0 değerlerinden oluşan 24 elemanlı tek boyutlu bir array oluşturdu. (default dtype = float)\n",
    "listSıfır"
   ]
  },
  {
   "cell_type": "code",
   "execution_count": 46,
   "id": "288defbf-ce5a-4ef1-aaf3-41911d83014d",
   "metadata": {},
   "outputs": [
    {
     "data": {
      "text/plain": [
       "array([0, 0, 0, 0, 0, 0, 0, 0, 0, 0, 0, 0, 0, 0, 0, 0, 0, 0, 0, 0, 0, 0,\n",
       "       0, 0])"
      ]
     },
     "execution_count": 46,
     "metadata": {},
     "output_type": "execute_result"
    }
   ],
   "source": [
    "listSıfır = np.zeros(24, dtype = int) #dtype değiştirmek mümkün.\n",
    "listSıfır"
   ]
  },
  {
   "cell_type": "code",
   "execution_count": 47,
   "id": "54f71ec5-cf0d-49b9-8328-3ac7c814003d",
   "metadata": {},
   "outputs": [
    {
     "data": {
      "text/plain": [
       "array([1, 1, 1, 1, 1, 1, 1, 1, 1, 1, 1, 1])"
      ]
     },
     "execution_count": 47,
     "metadata": {},
     "output_type": "execute_result"
    }
   ],
   "source": [
    "listeBir = np.ones(12, dtype = int) #np.ones komutuyla 1 değerlerinden oluşan tek boyutlu bir array oluşturduk ve default olan dtype'ı int yaptık.\n",
    "listeBir"
   ]
  },
  {
   "cell_type": "code",
   "execution_count": 48,
   "id": "bdd1e69c-c8d2-4d39-a619-dd0674250d07",
   "metadata": {},
   "outputs": [
    {
     "data": {
      "text/plain": [
       "array([[[ 0,  1,  2,  3],\n",
       "        [ 4,  5,  6,  7],\n",
       "        [ 8,  9, 10, 11]],\n",
       "\n",
       "       [[12, 13, 14, 15],\n",
       "        [16, 17, 18, 19],\n",
       "        [20, 21, 22, 23]]])"
      ]
     },
     "execution_count": 48,
     "metadata": {},
     "output_type": "execute_result"
    }
   ],
   "source": [
    "arr = np.arange(24).reshape(2,3,4)\n",
    "arr"
   ]
  },
  {
   "cell_type": "code",
   "execution_count": 49,
   "id": "9b68f2de-a00f-4711-a7be-6c08265bbf71",
   "metadata": {},
   "outputs": [
    {
     "data": {
      "text/plain": [
       "array([[[0, 0, 0, 0],\n",
       "        [0, 0, 0, 0],\n",
       "        [0, 0, 0, 0]],\n",
       "\n",
       "       [[0, 0, 0, 0],\n",
       "        [0, 0, 0, 0],\n",
       "        [0, 0, 0, 0]]])"
      ]
     },
     "execution_count": 49,
     "metadata": {},
     "output_type": "execute_result"
    }
   ],
   "source": [
    "np.zeros_like(arr) #Belirlenen array'i sadece 0'lardan oluşuyormuş gibi yapmak. Dipnot: İstediğimiz boyutlarda boş bir array elde etmiş oluyoruz, ileride muhtemelen içini başka değerlerle dolduracağız."
   ]
  },
  {
   "cell_type": "code",
   "execution_count": 33,
   "id": "183291dc-0b12-4084-a655-0ea70425eb22",
   "metadata": {},
   "outputs": [
    {
     "data": {
      "text/plain": [
       "array([[[1, 1, 1, 1],\n",
       "        [1, 1, 1, 1],\n",
       "        [1, 1, 1, 1]],\n",
       "\n",
       "       [[1, 1, 1, 1],\n",
       "        [1, 1, 1, 1],\n",
       "        [1, 1, 1, 1]]])"
      ]
     },
     "execution_count": 33,
     "metadata": {},
     "output_type": "execute_result"
    }
   ],
   "source": [
    "np.ones_like(arr) #Belirlenen array'i 1'ler gibi yapmak"
   ]
  },
  {
   "cell_type": "code",
   "execution_count": 35,
   "id": "dfa64b37-e339-4029-8f5a-4d55d91b8d9a",
   "metadata": {},
   "outputs": [
    {
     "data": {
      "text/plain": [
       "array([[[53, 53, 53, 53],\n",
       "        [53, 53, 53, 53],\n",
       "        [53, 53, 53, 53]],\n",
       "\n",
       "       [[53, 53, 53, 53],\n",
       "        [53, 53, 53, 53],\n",
       "        [53, 53, 53, 53]]])"
      ]
     },
     "execution_count": 35,
     "metadata": {},
     "output_type": "execute_result"
    }
   ],
   "source": [
    "np.ones_like(arr)*53 #Belirlenen array'i önce 1'ler gibi yaptık sonra her bir indexi 53 ile çarptık."
   ]
  },
  {
   "cell_type": "code",
   "execution_count": 53,
   "id": "02195659-c238-4ad7-859d-57432d8ac00b",
   "metadata": {},
   "outputs": [
    {
     "data": {
      "text/plain": [
       "array([[0, 0, 0, 0],\n",
       "       [0, 0, 0, 0],\n",
       "       [0, 0, 0, 0]])"
      ]
     },
     "execution_count": 53,
     "metadata": {},
     "output_type": "execute_result"
    }
   ],
   "source": [
    "x = np.empty((3,4),int) #3satır 4 sütunluk boş ve int değerlerden oluşan bir array yaptık. Boş liste açmak gibi, boş array açıyoruz sonra ilerleyen aşamalarda içini istediğimiz sayılarla dolduracağız muhtemelen.\n",
    "x"
   ]
  },
  {
   "cell_type": "code",
   "execution_count": 57,
   "id": "ee1486cf-ae05-4ecf-b611-acc5a9e43754",
   "metadata": {},
   "outputs": [
    {
     "data": {
      "text/plain": [
       "array([[1., 0., 0., 0.],\n",
       "       [0., 1., 0., 0.],\n",
       "       [0., 0., 1., 0.],\n",
       "       [0., 0., 0., 1.]])"
      ]
     },
     "execution_count": 57,
     "metadata": {},
     "output_type": "execute_result"
    }
   ],
   "source": [
    "np.eye(4) #4'e 4'lük birim matris oluşturuyoruz. Yani sadece sol üstten sağ alta olan diagonelde 1 değerleri geri kalanı 0'lardan oluşan matris."
   ]
  },
  {
   "cell_type": "code",
   "execution_count": 58,
   "id": "2c8cb599-6227-48b2-9a81-316690d7b594",
   "metadata": {},
   "outputs": [
    {
     "data": {
      "text/plain": [
       "array([[5., 0., 0., 0., 0., 0., 0., 0.],\n",
       "       [0., 5., 0., 0., 0., 0., 0., 0.],\n",
       "       [0., 0., 5., 0., 0., 0., 0., 0.],\n",
       "       [0., 0., 0., 5., 0., 0., 0., 0.],\n",
       "       [0., 0., 0., 0., 5., 0., 0., 0.],\n",
       "       [0., 0., 0., 0., 0., 5., 0., 0.],\n",
       "       [0., 0., 0., 0., 0., 0., 5., 0.],\n",
       "       [0., 0., 0., 0., 0., 0., 0., 5.]])"
      ]
     },
     "execution_count": 58,
     "metadata": {},
     "output_type": "execute_result"
    }
   ],
   "source": [
    "np.eye(8)*5 #8'8'lik bir birim matris oluşturduk. Ardından diagonelimizdeki 1 değerlerini 5 ile çarptık.(Aslında bütün değerleri çarptık ama 0'lar 0 olarak kaldı 1 değerleri 5 oldu)"
   ]
  },
  {
   "cell_type": "code",
   "execution_count": 62,
   "id": "b49159b7-d547-4a90-a0fd-3ee0cf40cf07",
   "metadata": {},
   "outputs": [
    {
     "data": {
      "text/plain": [
       "array([['Hi', 'Hi'],\n",
       "       ['Hi', 'Hi'],\n",
       "       ['Hi', 'Hi']], dtype='<U2')"
      ]
     },
     "execution_count": 62,
     "metadata": {},
     "output_type": "execute_result"
    }
   ],
   "source": [
    "np.full((3,2),\"Hi\") #3 satır 2 sütundan oluşan bir array oluşturup her indexini \"Hi\" ile doldurduk. Full komutu ile istediğimiz boyutlarda matris oluşturup içini istediğimiz değerlerle doldurabiliyoruz."
   ]
  },
  {
   "cell_type": "code",
   "execution_count": 63,
   "id": "7675ae1f-d39e-4dfe-8647-10c36ef6efe8",
   "metadata": {},
   "outputs": [
    {
     "data": {
      "text/plain": [
       "array([[[nan, nan, nan, nan, nan],\n",
       "        [nan, nan, nan, nan, nan]],\n",
       "\n",
       "       [[nan, nan, nan, nan, nan],\n",
       "        [nan, nan, nan, nan, nan]],\n",
       "\n",
       "       [[nan, nan, nan, nan, nan],\n",
       "        [nan, nan, nan, nan, nan]]])"
      ]
     },
     "execution_count": 63,
     "metadata": {},
     "output_type": "execute_result"
    }
   ],
   "source": [
    "np.full((3,2,5),np.nan) #İstediğimiz boyutlarda nan(boş) değerlerden oluşan bir array oluşturduk. Boş array oluşturmanın bir başka yolu... Dediğim gibi muhtemelen bu boş arrayleri ileride istediğimiz değerlerle dolduracağız."
   ]
  },
  {
   "cell_type": "code",
   "execution_count": 66,
   "id": "20d966cb-001c-413f-8bb5-0d05d9bcb746",
   "metadata": {},
   "outputs": [
    {
     "data": {
      "text/plain": [
       "array([10., 12., 14., 16., 18.])"
      ]
     },
     "execution_count": 66,
     "metadata": {},
     "output_type": "execute_result"
    }
   ],
   "source": [
    "np.linspace(10,18,5) #Girilen ilk 2 attribute hangi aralıkta değerler seçeceğimizi belirliyor. 3.attribute(num deniyor buna) ise kaç tane değer alacağımızı belirliyor.\n",
    "                     #Derğerlerin kaçar kaçar artacağını bulmak istiyorsan : Aralığının uzunluğunu bulup \"num-1\"e bölebilirsin.\n",
    "                     #Solda verilen örnekte 10 ile 18 arasında 5 tane değer döndürüleceğini ve artışın 2şer 2şer olacağı çıkarımını yapabilirsin."
   ]
  },
  {
   "cell_type": "code",
   "execution_count": 73,
   "id": "97b18b73-7078-4810-ae02-f258553d7f08",
   "metadata": {},
   "outputs": [
    {
     "data": {
      "text/plain": [
       "array([10, 12, 14, 16, 18])"
      ]
     },
     "execution_count": 73,
     "metadata": {},
     "output_type": "execute_result"
    }
   ],
   "source": [
    "np.linspace(10,18,5, dtype = int) #Üstteki örnekteki ilk 3 temel attribute'e ekstradan sadece dtype attribute'ı ekleyerek elde edeceğimiz değerlerin float değilde int olmasını sağladık. Default bırakınca float döndürüyor."
   ]
  },
  {
   "cell_type": "code",
   "execution_count": 75,
   "id": "4e7abdb5-c296-492b-9a80-f32451c4c980",
   "metadata": {},
   "outputs": [
    {
     "data": {
      "text/plain": [
       "array([10. , 11.6, 13.2, 14.8, 16.4])"
      ]
     },
     "execution_count": 75,
     "metadata": {},
     "output_type": "execute_result"
    }
   ],
   "source": [
    "np.linspace(10,18,5, endpoint = False) #Bu seferde ilk 3 temel attribute'e ek olarak endpoint(Bitiş noktası) attribute'unu ekledik. \"endpoint = False\" yaparak bitiş noktasını dahil etmedik.\n",
    "                                       #Bitiş noktası listelerde ve pek çok işlemde zaten default olarak dahil değildi fakat linspace komutunda kolaylık olması açısından default değerinde bitiş noktası dahil. Biz dahil etmek istemezsek böyle yapıyoruz\n",
    "                                       #Bitiş noktasını dahil etmediğimiz zaman bulacağımız değerlerin kaçar kaçar artacağını öğrenmek istiyorsak aralığımızın uzunluğunu \"num-1\" yerine direk \"num\" değerine bölüyorsun."
   ]
  },
  {
   "cell_type": "code",
   "execution_count": 84,
   "id": "86046a7f-e21d-4841-b2a9-9ea753abcdc2",
   "metadata": {},
   "outputs": [
    {
     "data": {
      "text/plain": [
       "array([100., 102., 104., 106., 108., 110., 112., 114., 116., 118., 120.,\n",
       "       122., 124., 126., 128., 130., 132., 134., 136., 138., 140., 142.,\n",
       "       144., 146., 148., 150., 152., 154., 156., 158., 160., 162., 164.,\n",
       "       166., 168., 170., 172., 174., 176., 178., 180., 182., 184., 186.,\n",
       "       188., 190., 192., 194., 196., 198., 200., 202., 204., 206., 208.,\n",
       "       210., 212., 214., 216., 218., 220., 222., 224., 226., 228., 230.,\n",
       "       232., 234., 236., 238., 240., 242., 244., 246., 248., 250., 252.,\n",
       "       254., 256., 258., 260., 262., 264., 266., 268., 270., 272., 274.,\n",
       "       276., 278., 280., 282., 284., 286., 288., 290., 292., 294., 296.,\n",
       "       298., 300., 302., 304., 306., 308., 310., 312., 314., 316., 318.,\n",
       "       320., 322., 324., 326., 328., 330., 332., 334., 336., 338., 340.,\n",
       "       342., 344., 346., 348., 350., 352., 354., 356., 358., 360., 362.,\n",
       "       364., 366., 368., 370., 372., 374., 376., 378., 380., 382., 384.,\n",
       "       386., 388., 390., 392., 394., 396., 398., 400., 402., 404., 406.,\n",
       "       408., 410., 412., 414., 416., 418., 420., 422., 424., 426., 428.,\n",
       "       430., 432., 434., 436., 438., 440., 442., 444., 446., 448., 450.,\n",
       "       452., 454., 456., 458., 460., 462., 464., 466., 468., 470., 472.,\n",
       "       474., 476., 478., 480., 482., 484., 486., 488., 490., 492., 494.,\n",
       "       496., 498., 500.])"
      ]
     },
     "execution_count": 84,
     "metadata": {},
     "output_type": "execute_result"
    }
   ],
   "source": [
    "np.linspace(100,500,201) #Örnek olarak 100 ile 500 değerleri arasında geziyoruz. Dolayısıyla gezdiğimiz aralığımızın uzunluğu 500-100 = 400 oluyor.\n",
    "                         #O aralıkta ardışık artan 201 tane sayı döndürmesini istiyoruz. Fakat endpoint de zaten dahil olduğu için 201 - 1 = 200 tane aralık oluşsun istiyoruz.\n",
    "                         #Toplam 400 uzunluğunda 200 aralık oluşacaksa 400/200 = 2 olur. Yani iki sayı arasındaki artış 2şer 2şer olur ve 100 ile 500 arasından 201 tane değer döndürürüz."
   ]
  },
  {
   "cell_type": "code",
   "execution_count": 85,
   "id": "5f429d3a-a240-41cd-bc7a-601e171e0b84",
   "metadata": {},
   "outputs": [
    {
     "data": {
      "text/plain": [
       "(array([ 50.,  58.,  66.,  74.,  82.,  90.,  98., 106., 114., 122., 130.,\n",
       "        138., 146., 154., 162., 170., 178., 186., 194., 202., 210., 218.,\n",
       "        226., 234., 242., 250., 258., 266., 274., 282., 290., 298., 306.,\n",
       "        314., 322., 330., 338., 346., 354., 362., 370., 378., 386., 394.,\n",
       "        402., 410., 418., 426., 434., 442., 450., 458., 466., 474., 482.,\n",
       "        490., 498., 506., 514., 522., 530., 538., 546., 554., 562., 570.,\n",
       "        578., 586., 594., 602., 610., 618., 626., 634., 642., 650., 658.,\n",
       "        666., 674., 682., 690., 698., 706., 714., 722., 730., 738., 746.,\n",
       "        754., 762., 770., 778., 786., 794., 802., 810., 818., 826., 834.,\n",
       "        842., 850.]),\n",
       " 8.0)"
      ]
     },
     "execution_count": 85,
     "metadata": {},
     "output_type": "execute_result"
    }
   ],
   "source": [
    "np.linspace(50,850,101, retstep = True) #Bu sefer de fazladan \"retstep = True\" attribute'u atayarak iki sayı arasındaki artışın kaçar kaçar olduğunu da göstermesini istiyoruz.\n",
    "                                        #Bilgisayarın da artışı hesaplama şekli yukarıda anlattığım gibi."
   ]
  },
  {
   "cell_type": "code",
   "execution_count": 88,
   "id": "3e08eae8-4b4f-49e8-a185-91c969a98b8f",
   "metadata": {},
   "outputs": [
    {
     "data": {
      "text/plain": [
       "(array([ 500,  505,  510,  515,  520,  525,  530,  535,  540,  545,  550,\n",
       "         555,  560,  565,  570,  575,  580,  585,  590,  595,  600,  605,\n",
       "         610,  615,  620,  625,  630,  635,  640,  645,  650,  655,  660,\n",
       "         665,  670,  675,  680,  685,  690,  695,  700,  705,  710,  715,\n",
       "         720,  725,  730,  735,  740,  745,  750,  755,  760,  765,  770,\n",
       "         775,  780,  785,  790,  795,  800,  805,  810,  815,  820,  825,\n",
       "         830,  835,  840,  845,  850,  855,  860,  865,  870,  875,  880,\n",
       "         885,  890,  895,  900,  905,  910,  915,  920,  925,  930,  935,\n",
       "         940,  945,  950,  955,  960,  965,  970,  975,  980,  985,  990,\n",
       "         995, 1000, 1005, 1010, 1015, 1020, 1025, 1030, 1035, 1040, 1045,\n",
       "        1050, 1055, 1060, 1065, 1070, 1075, 1080, 1085, 1090, 1095, 1100,\n",
       "        1105, 1110, 1115, 1120, 1125, 1130, 1135, 1140, 1145, 1150, 1155,\n",
       "        1160, 1165, 1170, 1175, 1180, 1185, 1190, 1195, 1200, 1205, 1210,\n",
       "        1215, 1220, 1225, 1230, 1235, 1240, 1245, 1250, 1255, 1260, 1265,\n",
       "        1270, 1275, 1280, 1285, 1290, 1295, 1300, 1305, 1310, 1315, 1320,\n",
       "        1325, 1330, 1335, 1340, 1345, 1350, 1355, 1360, 1365, 1370, 1375,\n",
       "        1380, 1385, 1390, 1395, 1400, 1405, 1410, 1415, 1420, 1425, 1430,\n",
       "        1435, 1440, 1445, 1450, 1455, 1460, 1465, 1470, 1475, 1480, 1485,\n",
       "        1490, 1495, 1500, 1505, 1510, 1515, 1520, 1525, 1530, 1535, 1540,\n",
       "        1545, 1550, 1555, 1560, 1565, 1570, 1575, 1580, 1585, 1590, 1595,\n",
       "        1600, 1605, 1610, 1615, 1620, 1625, 1630, 1635, 1640, 1645, 1650,\n",
       "        1655, 1660, 1665, 1670, 1675, 1680, 1685, 1690, 1695, 1700, 1705,\n",
       "        1710, 1715, 1720, 1725, 1730, 1735, 1740, 1745, 1750, 1755, 1760,\n",
       "        1765, 1770, 1775, 1780, 1785, 1790, 1795, 1800, 1805, 1810, 1815,\n",
       "        1820, 1825, 1830, 1835, 1840, 1845, 1850, 1855, 1860, 1865, 1870,\n",
       "        1875, 1880, 1885, 1890, 1895, 1900, 1905, 1910, 1915, 1920, 1925,\n",
       "        1930, 1935, 1940, 1945, 1950, 1955, 1960, 1965, 1970, 1975, 1980,\n",
       "        1985, 1990, 1995]),\n",
       " 5.0)"
      ]
     },
     "execution_count": 88,
     "metadata": {},
     "output_type": "execute_result"
    }
   ],
   "source": [
    "np.linspace(500,2000,300, dtype = int, endpoint=False , retstep = True) #Bu da 3 temel attribute + 3 ekstra attribute hepsinin birlikte kullanımıyla oluşturulmuş bir array"
   ]
  },
  {
   "cell_type": "code",
   "execution_count": 89,
   "id": "2f1b41ba-6b15-4c24-9528-8953cc450268",
   "metadata": {},
   "outputs": [],
   "source": [
    "import matplotlib.pyplot as plt #matplotlib kütüphanesinin pyplot komutunu \"plt\" kısaltmasıyla beraber çağırdık. Visualization(Görselleştirme) işlemi için kullanılıyor bu kütüphane ve fonksiyonları."
   ]
  },
  {
   "cell_type": "code",
   "execution_count": 91,
   "id": "37a88d55-4aae-4697-a3f2-eb0a34c494e0",
   "metadata": {},
   "outputs": [
    {
     "data": {
      "image/png": "[encoded data removed]",
      "text/plain": [
       "<Figure size 432x288 with 1 Axes>"
      ]
     },
     "metadata": {
      "needs_background": "light"
     },
     "output_type": "display_data"
    }
   ],
   "source": [
    "n = 8\n",
    "y = np.zeros(n) #n tane 0'lardan oluşan bir boyutlu array\n",
    "x = np.linspace(0,10,n) #0 ile 10 arasından 8 tane değer çektik\n",
    "x2 = np.linspace(0,10,n, endpoint = False) #Burda ise endpoint = False yaparak son değeri almadan 0 ile 10 arasından 8 tane değer çektik. Yani x ve x2 ufak bir nüansla da olsa farklı değerleri çekti.\n",
    "\n",
    "plt.plot(x,y,\"o\") #Bu dediğim gibi matplotlib kütüphanesinden çektiğimiz bir fonksiyon özelliği. Yanlış anlamadıysam plot diye bir grafik oluşturucumuz var, az önce oluşturduğumuz x ve y eksenlerini ona gönderiyoruz. Sembol olarakta \"o\" seçtik\n",
    "plt.plot(x2,y+1,\"+\") #Bu seferde plot dediğimiz grafik oluşturucumuza yatay eksen olarak x2 değerlerini, dikey eksen olarak gene y değerlerini gönderiyoruz. Sembol olarak \"+\" sembolünü seçtik bunda.\n",
    "\n",
    "plt.show() #Burda ise sanırım plot denilen grafiğimizi çağırıyoruz. Az önce 2 tane görsel çizmiştik plotumuza dolayısıyla ona göre bir plot çıkıcak karşımıza. Birinde 10 değerine kadar almış, diğerinde 10 değerini dahil etneniş şekilde."
   ]
  },
  {
   "cell_type": "code",
   "execution_count": 93,
   "id": "3dd41fae-298f-4c1e-80b8-4eb3b5f834a2",
   "metadata": {},
   "outputs": [
    {
     "data": {
      "text/plain": [
       "array([0., 0., 0., 0., 0., 0., 0., 0.])"
      ]
     },
     "execution_count": 93,
     "metadata": {},
     "output_type": "execute_result"
    }
   ],
   "source": [
    "y #Az önce plotumuza yazdığımız 0 değerlerinden oluşan y ekseni"
   ]
  },
  {
   "cell_type": "code",
   "execution_count": 94,
   "id": "484d18a6-6fa9-4ebe-851b-ecb812037944",
   "metadata": {},
   "outputs": [
    {
     "data": {
      "text/plain": [
       "array([1., 1., 1., 1., 1., 1., 1., 1.])"
      ]
     },
     "execution_count": 94,
     "metadata": {},
     "output_type": "execute_result"
    }
   ],
   "source": [
    "y+1 #Y eksenimizi pratik olarak 0 değerlerinden değil de 1 değerlerinden oluşturmanın yolu"
   ]
  },
  {
   "cell_type": "code",
   "execution_count": 97,
   "id": "d9d1930f-d7d6-4177-86fa-f792a6fbae7c",
   "metadata": {},
   "outputs": [
    {
     "data": {
      "text/plain": [
       "array([ 2.,  4.,  8., 16., 32.])"
      ]
     },
     "execution_count": 97,
     "metadata": {},
     "output_type": "execute_result"
    }
   ],
   "source": [
    "np.logspace(1,5, num = 5 , base = 2) # İlk 2 attribute ile belirlediğimiz aralıkta \"num\" defa \"base\" in kuvvetini alıyoruz. Ve logaritmik bir artık sağlıyor.(Katlanarak her seferinde daha büyük bir artık olmasını sağlıyoruz)\n",
    "                                     # 2üssü 1 , 2üssü 2 , 2üssü 3 , 2üssü 4 , 2üssü 5 şeklinde değerleri döndürüyor yukarıdaki kod."
   ]
  },
  {
   "cell_type": "code",
   "execution_count": 100,
   "id": "5750667d-7618-4768-a11a-f42556d523de",
   "metadata": {},
   "outputs": [
    {
     "data": {
      "text/plain": [
       "array([  3.,   9.,  27.,  81., 243.])"
      ]
     },
     "execution_count": 100,
     "metadata": {},
     "output_type": "execute_result"
    }
   ],
   "source": [
    "np.logspace(1,5,num = 5, base=3) # Bu da 1'den 5'e kadar 5 defa 3ün kuvvetlerini döndürecek\n",
    "                                 # logspace mantığı anlaşılsın diye verdiğim aralık ve num değerlerini birbirine bölünür şekilde veriyorum ki üs alınarak logaritmik artışın nasıl olduğu daha iyi anlaşılsın."
   ]
  },
  {
   "cell_type": "markdown",
   "id": "85d6bbf6-bce1-402a-a488-b80860289ec3",
   "metadata": {},
   "source": [
    "Burda 2 tane daha np.logspace ve plot içeren görselleştirme örnekleri yapmışız ama ben onlara daha fazla girmeyeyim. Bu kadarıyla temelini anlayalım yeterli."
   ]
  },
  {
   "cell_type": "code",
   "execution_count": 101,
   "id": "68a7af5b-ea03-41a6-a462-f816dd49eadc",
   "metadata": {},
   "outputs": [
    {
     "data": {
      "text/plain": [
       "array([ 0,  1,  2,  3,  4,  5,  6,  7,  8,  9, 10, 11, 12, 13, 14, 15, 16,\n",
       "       17, 18, 19, 20, 21, 22, 23])"
      ]
     },
     "execution_count": 101,
     "metadata": {},
     "output_type": "execute_result"
    }
   ],
   "source": [
    "arr = np.arange(24) # 0'dan 24'e kadar.(Endpoint dahil değil) olan sayılardan oluşan tek boyutlu bir array oluşturduk.\n",
    "arr # arr komutunu yazdırıyoruz. Normalde böyle bir kullanım yok ama Jupyter notebook çalışmak kolay olsun diye en son yazdığımız kod ekrana bastırılabilir bir şey ise onu otomatik print ediyor. SÜrekli print komutunu kullanmanıza gerek yok."
   ]
  },
  {
   "cell_type": "code",
   "execution_count": 106,
   "id": "7078047e-0ff5-4f47-b827-fe23c3f88d97",
   "metadata": {},
   "outputs": [
    {
     "data": {
      "text/plain": [
       "array([2, 4, 6, 8])"
      ]
     },
     "execution_count": 106,
     "metadata": {},
     "output_type": "execute_result"
    }
   ],
   "source": [
    "arr[slice(2,10,2)] # arr arrayinin içerisine slice(dilimleme) fonksiyonunu soktuk. Slice fonksiyonu 3 attribute alıyor. Şuanki kullanımda vereceği şey şu 2.index ile 10.index arasındaki değerleri 2şer 2şer atlayarak dilimle."
   ]
  },
  {
   "cell_type": "code",
   "execution_count": 109,
   "id": "196ffef6-080a-4066-8ee2-1628f5220516",
   "metadata": {},
   "outputs": [
    {
     "data": {
      "text/plain": [
       "array([2, 4, 6, 8])"
      ]
     },
     "execution_count": 109,
     "metadata": {},
     "output_type": "execute_result"
    }
   ],
   "source": [
    "s = slice(2,10,2) # slice yapacağım şekli s diye bir değişkene atadım. Birazdan arrayimde slice yapmak için kullanacağım.\n",
    "arr[s] # Bu şekilde kullanımı da var. Gene aynı sonuç ve bu sefer \"s\" harfine atadığımız slicelama(dilimleme) işlemini başka arraylerde de kolaylıkla kullanabiliriz mesela."
   ]
  },
  {
   "cell_type": "code",
   "execution_count": 111,
   "id": "b06452c0-82f7-489b-9cf1-b78faa5364a7",
   "metadata": {},
   "outputs": [
    {
     "data": {
      "text/plain": [
       "array([ 0,  1,  2,  3,  4,  5,  6,  7,  8,  9, 10, 11, 12, 13, 14, 15, 16,\n",
       "       17, 18, 19, 20, 21, 22, 23])"
      ]
     },
     "execution_count": 111,
     "metadata": {},
     "output_type": "execute_result"
    }
   ],
   "source": [
    "arr # elimizdeki array'i bir daha görmek için yazdım."
   ]
  },
  {
   "cell_type": "code",
   "execution_count": 112,
   "id": "81439d6e-992a-40b8-bbbe-1de10c9a20c9",
   "metadata": {},
   "outputs": [
    {
     "data": {
      "text/plain": [
       "23"
      ]
     },
     "execution_count": 112,
     "metadata": {},
     "output_type": "execute_result"
    }
   ],
   "source": [
    "arr[-1] # -1. indexini(Yani en son indexini) yazdır."
   ]
  },
  {
   "cell_type": "code",
   "execution_count": 113,
   "id": "345456b7-248b-4f2f-af49-0a19a5e6f1cc",
   "metadata": {},
   "outputs": [
    {
     "data": {
      "text/plain": [
       "array([21, 22, 23])"
      ]
     },
     "execution_count": 113,
     "metadata": {},
     "output_type": "execute_result"
    }
   ],
   "source": [
    "arr[-3:] # -3.indexten itibaren sona kadar yazdır"
   ]
  },
  {
   "cell_type": "code",
   "execution_count": 116,
   "id": "52d7e447-c2f7-4a73-b07e-c20091740257",
   "metadata": {},
   "outputs": [
    {
     "data": {
      "text/plain": [
       "array([2, 3, 4, 5, 6, 7])"
      ]
     },
     "execution_count": 116,
     "metadata": {},
     "output_type": "execute_result"
    }
   ],
   "source": [
    "arr[2:8] # 2. ve 8.index arasını yazdır"
   ]
  },
  {
   "cell_type": "code",
   "execution_count": 117,
   "id": "5f2ac54e-854d-4e48-b10a-1b0782ca70a0",
   "metadata": {},
   "outputs": [
    {
     "data": {
      "text/plain": [
       "array([[[  1,   2,   3,   4,   5,   6,   7,   8,   9,  10],\n",
       "        [ 11,  12,  13,  14,  15,  16,  17,  18,  19,  20],\n",
       "        [ 21,  22,  23,  24,  25,  26,  27,  28,  29,  30],\n",
       "        [ 31,  32,  33,  34,  35,  36,  37,  38,  39,  40],\n",
       "        [ 41,  42,  43,  44,  45,  46,  47,  48,  49,  50]],\n",
       "\n",
       "       [[ 51,  52,  53,  54,  55,  56,  57,  58,  59,  60],\n",
       "        [ 61,  62,  63,  64,  65,  66,  67,  68,  69,  70],\n",
       "        [ 71,  72,  73,  74,  75,  76,  77,  78,  79,  80],\n",
       "        [ 81,  82,  83,  84,  85,  86,  87,  88,  89,  90],\n",
       "        [ 91,  92,  93,  94,  95,  96,  97,  98,  99, 100]]])"
      ]
     },
     "execution_count": 117,
     "metadata": {},
     "output_type": "execute_result"
    }
   ],
   "source": [
    "arr3D = np.arange(1,101).reshape(2,5,10) # İlk önce 1den 101'e kadar(101 dahil değil) tek boyutlu bir array oluşturdum. Tek boyutlu arrayimdeki 100 tane indeximi 2,5,10 reshape komutuyla 2,5,10 şeklinde 3 boyutlu bir array haline döndürdüm.\n",
    "arr3D"
   ]
  },
  {
   "cell_type": "code",
   "execution_count": 119,
   "id": "805dace6-adff-4dbd-9188-3b6ae3b3ac05",
   "metadata": {},
   "outputs": [
    {
     "data": {
      "text/plain": [
       "array([[ 51,  52,  53,  54,  55,  56,  57,  58,  59,  60],\n",
       "       [ 61,  62,  63,  64,  65,  66,  67,  68,  69,  70],\n",
       "       [ 71,  72,  73,  74,  75,  76,  77,  78,  79,  80],\n",
       "       [ 81,  82,  83,  84,  85,  86,  87,  88,  89,  90],\n",
       "       [ 91,  92,  93,  94,  95,  96,  97,  98,  99, 100]])"
      ]
     },
     "execution_count": 119,
     "metadata": {},
     "output_type": "execute_result"
    }
   ],
   "source": [
    "arr3D[1] # Üstteki 3 boyutlu arrayin 1.indexini çağırdık. (3 boyutlu bir arrayin bir elemanı 2 boyutludur, dolayısıyla 2 boyutlu satır ve sütunlardan oluşan başka bir array gelecek.)"
   ]
  },
  {
   "cell_type": "code",
   "execution_count": 121,
   "id": "360d36d0-5911-4693-9307-700dd1adf670",
   "metadata": {},
   "outputs": [
    {
     "data": {
      "text/plain": [
       "array([71, 72, 73, 74, 75, 76, 77, 78, 79, 80])"
      ]
     },
     "execution_count": 121,
     "metadata": {},
     "output_type": "execute_result"
    }
   ],
   "source": [
    "arr3D[1][2] # arr3D[1] üstteki gibi 2 boyutlu bir arraydi. Onun tekrar 2.indexindeki tek boyutlu arrayi çağırdık"
   ]
  },
  {
   "cell_type": "code",
   "execution_count": 122,
   "id": "fc8c462d-d1a1-4d6d-9fa8-5a8f9f59a424",
   "metadata": {},
   "outputs": [
    {
     "data": {
      "text/plain": [
       "76"
      ]
     },
     "execution_count": 122,
     "metadata": {},
     "output_type": "execute_result"
    }
   ],
   "source": [
    "arr3D[1][2][5] # arr3D[1][2] üstteki gibi tek boyutlu bir arraydi. Onun tekrar 5.indexindeki değeri çağırmış olduk. En son tek bir değer olduğu için array'likten çıkıyor ve sadece o indexdeki değer geliyor."
   ]
  },
  {
   "cell_type": "code",
   "execution_count": 125,
   "id": "f9506cb8-cce9-463b-8fe2-3c781db02073",
   "metadata": {},
   "outputs": [
    {
     "data": {
      "text/plain": [
       "array([[1, 2, 3],\n",
       "       [1, 5, 8]])"
      ]
     },
     "execution_count": 125,
     "metadata": {},
     "output_type": "execute_result"
    }
   ],
   "source": [
    "arr2D = np.array([[1,2,3],[1,5,8]]) # Kendimiz 2 boyutlu bir array tanımladık. 2 Boyutlu array tanımlarken kullanacağın köşeli parantez sayısına dikkat et. 3 boyutlu bir arrayi zaten manuel olarak asla tanımlama :D .\n",
    "arr2D                             # 2 Boyutlu arrayimizi görmek için ekrana yazdırdık"
   ]
  },
  {
   "cell_type": "code",
   "execution_count": 126,
   "id": "a28e5424-82b5-44a8-aa29-213d13c03229",
   "metadata": {},
   "outputs": [
    {
     "data": {
      "text/plain": [
       "array([[1, 2, 3],\n",
       "       [1, 5, 8]])"
      ]
     },
     "execution_count": 126,
     "metadata": {},
     "output_type": "execute_result"
    }
   ],
   "source": [
    "arr2D[...] # 3 nokta oraya yazılabilecek bütün değeleri yaz anlamında. Dolayısıyla arr2D arrayinin bütün değerlerini almış oluyoruz. Tekrar aynı array dönüyor"
   ]
  },
  {
   "cell_type": "code",
   "execution_count": 127,
   "id": "42f9f42b-fa96-4e6d-bd44-3403d2301aa1",
   "metadata": {},
   "outputs": [
    {
     "data": {
      "text/plain": [
       "array([3, 8])"
      ]
     },
     "execution_count": 127,
     "metadata": {},
     "output_type": "execute_result"
    }
   ],
   "source": [
    "arr2D[...,2] # İlk attribute'e ... girerek her satırı al demiş olduk, ikinci attribute'e 2 değerini girerek. İndex değeri 2 olan sütunları al demiş olduk. Dolayısıyla büm satırların index değeri 2 olan sütunlarını alacak"
   ]
  },
  {
   "cell_type": "code",
   "execution_count": 129,
   "id": "7811882e-a927-4c6a-b44c-224cd5ac75b7",
   "metadata": {},
   "outputs": [
    {
     "data": {
      "text/plain": [
       "array([[1, 2, 3],\n",
       "       [1, 5, 8]])"
      ]
     },
     "execution_count": 129,
     "metadata": {},
     "output_type": "execute_result"
    }
   ],
   "source": [
    "arr2D #arr2D 2 boyutlu bir array idi. Tekrardan bi görelim"
   ]
  },
  {
   "cell_type": "code",
   "execution_count": 133,
   "id": "dab4a972-329c-4f04-be02-7cb34252e956",
   "metadata": {},
   "outputs": [
    {
     "name": "stdout",
     "output_type": "stream",
     "text": [
      "[[[1]\n",
      "  [2]\n",
      "  [3]]\n",
      "\n",
      " [[1]\n",
      "  [5]\n",
      "  [8]]]\n"
     ]
    },
    {
     "data": {
      "text/plain": [
       "(2, 3, 1)"
      ]
     },
     "execution_count": 133,
     "metadata": {},
     "output_type": "execute_result"
    }
   ],
   "source": [
    "arr3DD = arr2D[:,:,np.newaxis] #2 Boyutlu bir array'e yeni bir boyut eklemiş oluyoruz, default olarak son eklenen boyutu \"1\" değerinde ekliyor\n",
    "print(arr3DD) # arr3D'yi yazdıralım bi görelim 3 boyutlu oldu mu\n",
    "arr3DD.shape # shape'ini(şeklini) de yazdıralım bakalım. Bunda print kullanmaya gerek yok dediğim gibi Jupyter notebook en son yazılan kodu zaten printli algılıyor."
   ]
  },
  {
   "cell_type": "code",
   "execution_count": 134,
   "id": "41111a57-e325-4b4f-b6c6-86d86c33c31a",
   "metadata": {},
   "outputs": [
    {
     "data": {
      "text/plain": [
       "array([[ 1,  2,  3,  4,  5],\n",
       "       [ 6,  7,  8,  9, 10],\n",
       "       [11, 12, 13, 14, 15],\n",
       "       [16, 17, 18, 19, 20],\n",
       "       [21, 22, 23, 24, 25]])"
      ]
     },
     "execution_count": 134,
     "metadata": {},
     "output_type": "execute_result"
    }
   ],
   "source": [
    "myArr = np.arange(1,26).reshape(5,5) # 1'den 26'ya kadar(26 dahil değil) 25 indexli tek boyutlu  array oluşturduk. Devamında reshape komutuyla (5,5) shapeinde 2 boyutlu yeni bir hale getirdik\n",
    "myArr # arrayimizi bi print edip görelim"
   ]
  },
  {
   "cell_type": "code",
   "execution_count": 140,
   "id": "3fee17ee-881f-4575-8cec-79f0f53ac3f5",
   "metadata": {},
   "outputs": [
    {
     "data": {
      "text/plain": [
       "array([14, 15])"
      ]
     },
     "execution_count": 140,
     "metadata": {},
     "output_type": "execute_result"
    }
   ],
   "source": [
    "myArr[2,3:] # Üstteki arrayden tam 14 ve 15'i çekmek istersek bunu uygulayabiliriz.\n",
    "            # Satır olarka 2.indexi al, sütun olarak ise 3.index ve sonrasını al anlamına geliyor #İndex Slicelama deniyor buna. Ama en ilkel yol bu, birazdan daha profesyonel yolları göreceğiz"
   ]
  },
  {
   "cell_type": "code",
   "execution_count": 141,
   "id": "171724e9-6fcc-447b-a1ed-29e2c6060332",
   "metadata": {},
   "outputs": [
    {
     "data": {
      "text/plain": [
       "array([18, 19])"
      ]
     },
     "execution_count": 141,
     "metadata": {},
     "output_type": "execute_result"
    }
   ],
   "source": [
    "myArr[3,2:4] # Hedefimiz bu sefer üstteki arrayden sadece 18 ve 19 değerlerini çekmek.\n",
    "             # Bunun için solda yazılan komutu kullandık. Anlamı ise satır olarak 3.indexi al, sütun olarak ise 2. ve 4. indexdeki sütunları al demek.(Son index dahil değil bildiğiniz gibi. Dolayısıyla sadece 2. ve 3.Sütun gelecek)"
   ]
  },
  {
   "cell_type": "code",
   "execution_count": 138,
   "id": "c742284a-aa0b-4ec2-af2b-805dd0717144",
   "metadata": {},
   "outputs": [
    {
     "data": {
      "text/plain": [
       "array([18, 19])"
      ]
     },
     "execution_count": 138,
     "metadata": {},
     "output_type": "execute_result"
    }
   ],
   "source": [
    "myArr[3,[2,3]] # Hedefimiz gene 18 ve 19 değerlerini çekmek.\n",
    "               #Bu biraz daha anlaşılır gibi. Satır olarak direk 3.indexdeki satırı al, sütun olarak ise 2.indexdeki ve 3.indexdeki sütunları al demek. Üsttekini aynısı. Farklı bir gösterimi. Ama üstteki daha advance ve güzel."
   ]
  },
  {
   "cell_type": "code",
   "execution_count": 139,
   "id": "34ed26c3-7cee-4128-8366-4fe215577a7e",
   "metadata": {},
   "outputs": [
    {
     "data": {
      "text/plain": [
       "array([[ 0,  1,  2],\n",
       "       [ 3,  4,  5],\n",
       "       [ 6,  7,  8],\n",
       "       [ 9, 10, 11]])"
      ]
     },
     "execution_count": 139,
     "metadata": {},
     "output_type": "execute_result"
    }
   ],
   "source": [
    "x = np.array([[ 0,  1,  2],[ 3,  4,  5],[ 6,  7,  8],[ 9, 10, 11]]) # Kendi isteğimiz şekilde 2 boyutlu bir array oluşturduk ve x değişkenine atadık.\n",
    "x # x arrayimizi bi yazdırıp görelim"
   ]
  },
  {
   "cell_type": "code",
   "execution_count": 146,
   "id": "848a6c2d-e6bc-4630-8c6f-f51d0ed08788",
   "metadata": {},
   "outputs": [
    {
     "data": {
      "text/plain": [
       "array([ 1,  3,  7, 10])"
      ]
     },
     "execution_count": 146,
     "metadata": {},
     "output_type": "execute_result"
    }
   ],
   "source": [
    "x[[0,1,2,3],[1,0,1,1]] # Bu sefer hedefimiz üstteki arrayden 1,3,7,10 değerlerini çekmek.\n",
    "                       # Yani uzun uzun [0][1] indexini [1][0] indexini [2][1] indexini ve [3][1] indexini çekmek istiyoruz.\n",
    "                       # Bunların hepsini tek seferde çekebilmek mümkün. Solda yaptığımız şekilde bir gösterimle birebir eşleştirmelerle tam istediğimiz değerleri çekebiliyoruz.\n",
    "                       # Bu bir tık Advance yöntem oluyor üsttekilere göre"
   ]
  },
  {
   "cell_type": "code",
   "execution_count": 147,
   "id": "7b359168-baed-466c-9345-7a8bc60d0842",
   "metadata": {},
   "outputs": [
    {
     "data": {
      "text/plain": [
       "array([2, 5, 9])"
      ]
     },
     "execution_count": 147,
     "metadata": {},
     "output_type": "execute_result"
    }
   ],
   "source": [
    "# Bu sefer hedefimiz gene üstteki arrayden 2,5,9 değerlerini çekmek olsun.\n",
    "# Önce değerlerin konumlarını tespit edelim.\n",
    "# 2 değerinin indexi [0][2] , 5 değerinin indexi [1][2] , 9 değerinin indexi [3][0] olduğu tespitini yaptıktan sonra önce sırasıyla satırları ardından sırasıyla sütunları yazarak tek seferde bütün değerleri çekelim ve yazdıralım.\n",
    "x[[0,1,3],[2,2,0]]"
   ]
  },
  {
   "cell_type": "code",
   "execution_count": 148,
   "id": "a4d6ab9e-540e-4579-9fa7-be2cbc0af9b1",
   "metadata": {},
   "outputs": [
    {
     "data": {
      "text/plain": [
       "array([[[ 0,  1,  2,  3],\n",
       "        [ 4,  5,  6,  7],\n",
       "        [ 8,  9, 10, 11]],\n",
       "\n",
       "       [[12, 13, 14, 15],\n",
       "        [16, 17, 18, 19],\n",
       "        [20, 21, 22, 23]]])"
      ]
     },
     "execution_count": 148,
     "metadata": {},
     "output_type": "execute_result"
    }
   ],
   "source": [
    "# Son konu artık Advance'in de advance'i gibi bir şey. Fancy indexing deniyor. \n",
    "# Fancy indexing = Basic İndexing + Advanced İndexing\n",
    "# Yani hem basic hem de advanced indexing yöntemlerinde öğrendiklerimizin ikisini birden uyguladığımız bir indexing yöntemi.\n",
    "\n",
    "arr4 = np.arange(24).reshape(2,3,4) # Son kez 24 indexli (2,3,4) shape'li 3 boyutlu bir index tanımlıyoruz.\n",
    "arr4 # indeximizi bi görelim"
   ]
  },
  {
   "cell_type": "code",
   "execution_count": 150,
   "id": "e4d63971-3205-4e4a-9b1e-dc24b64bee82",
   "metadata": {},
   "outputs": [
    {
     "data": {
      "text/plain": [
       "array([[12, 13, 14, 15],\n",
       "       [16, 17, 18, 19],\n",
       "       [20, 21, 22, 23]])"
      ]
     },
     "execution_count": 150,
     "metadata": {},
     "output_type": "execute_result"
    }
   ],
   "source": [
    "arr4[1] # arr4 arrayinin içinde 2 adet 2 boyutlu array vardı. Onların 1.indexli olanını al"
   ]
  },
  {
   "cell_type": "code",
   "execution_count": 151,
   "id": "be14f101-1a2b-4091-935f-10849cc94d98",
   "metadata": {},
   "outputs": [
    {
     "data": {
      "text/plain": [
       "array([[12, 13, 14, 15],\n",
       "       [20, 21, 22, 23]])"
      ]
     },
     "execution_count": 151,
     "metadata": {},
     "output_type": "execute_result"
    }
   ],
   "source": [
    "arr4[1,[0,2]] # arr4 arrayinin içindeki 2 adet 2 boyutlu arrayden 1.indexli olanı al, devamında 0.indexli ve 2.indexli olan satırları al"
   ]
  },
  {
   "cell_type": "code",
   "execution_count": 152,
   "id": "6a516c98-98d1-40e2-8c4c-18f8ec9fc6c5",
   "metadata": {},
   "outputs": [
    {
     "data": {
      "text/plain": [
       "array([13, 21])"
      ]
     },
     "execution_count": 152,
     "metadata": {},
     "output_type": "execute_result"
    }
   ],
   "source": [
    "arr4[1,[0,2],1] # arr4 arrayinin içindeki 2 adet 2 boyutlu arrayden 1.indexli olanı al, devamında 0.indexli ve 2.indexli olan satırlarını al ve onların 1.indexli sütunlarını al. (Çok karışık oldu sanki biliyorum) . Buna da Fancy indexing deniyor"
   ]
  },
  {
   "cell_type": "code",
   "execution_count": 156,
   "id": "3630201f-58dd-45a7-ab7f-8a08eb75ac84",
   "metadata": {},
   "outputs": [
    {
     "data": {
      "text/plain": [
       "array([[ 66,   1,  88],\n",
       "       [ 11,   4,   5],\n",
       "       [  6,   7,   8],\n",
       "       [ 99,  10, 111]])"
      ]
     },
     "execution_count": 156,
     "metadata": {},
     "output_type": "execute_result"
    }
   ],
   "source": [
    "y = np.array([[ 66,  1,  88],[ 11,  4,  5],[ 6,  7,  8],[ 99, 10, 111]]) # gene sipariş şeklinde kendi tanımladığımız 2 boyutlu bir array oluşturuyoruz.\n",
    "y # arrayimizi yazdırarak bi görelim."
   ]
  },
  {
   "cell_type": "code",
   "execution_count": 159,
   "id": "a851cec3-4f24-42f4-bdf6-ec5092453242",
   "metadata": {},
   "outputs": [
    {
     "data": {
      "text/plain": [
       "array([[[ 66,   1,  88],\n",
       "        [ 66,   1,  88]],\n",
       "\n",
       "       [[ 99,  10, 111],\n",
       "        [ 99,  10, 111]]])"
      ]
     },
     "execution_count": 159,
     "metadata": {},
     "output_type": "execute_result"
    }
   ],
   "source": [
    "rows = np.array([[0,0],[3,3]])  # Şimdi hedefimiz 66 , 88 , 99 , 111 değerlerini rows cows şeklinde array şeklindeki değişkenlere atayarak tam istediğimiz indexleri çekmek istiyoruz.\n",
    "                                # Bu rows cows mantığında anlayamadığım kısımlar için şimdilik yanlış bir açıklama yapmak istemiyorum. Bir sonraki derste hocaya soracağım.\n",
    "y[rows]"
   ]
  },
  {
   "cell_type": "code",
   "execution_count": 158,
   "id": "58d2f59f-af11-44a2-8227-35264f1b3815",
   "metadata": {},
   "outputs": [],
   "source": [
    "cols = np.array([[0,2],[0,2]]) # Bunlar sütunlarımız. Bunu print etmiyoruz çünkü satır gibi görünüyor ve kafa karışıklığına sebep olabiliyor. O yüzden direk birleştirme işlemine geçelim"
   ]
  },
  {
   "cell_type": "code",
   "execution_count": 160,
   "id": "a8c12a8a-4621-4019-8d28-6d2498c37020",
   "metadata": {},
   "outputs": [
    {
     "data": {
      "text/plain": [
       "array([[ 66,  88],\n",
       "       [ 99, 111]])"
      ]
     },
     "execution_count": 160,
     "metadata": {},
     "output_type": "execute_result"
    }
   ],
   "source": [
    "y[rows,cols] # oluşturduğumuz rows ve cows arraylerini birleştirince istediğimiz değerleri çekmiş oluyoruz"
   ]
  },
  {
   "cell_type": "code",
   "execution_count": 161,
   "id": "442f569d-7ff5-44d1-93ac-af81e3c91f8d",
   "metadata": {},
   "outputs": [
    {
     "data": {
      "text/plain": [
       "array([[ 66,  88],\n",
       "       [ 99, 111]])"
      ]
     },
     "execution_count": 161,
     "metadata": {},
     "output_type": "execute_result"
    }
   ],
   "source": [
    "row=np.array([[0,0],[3,3]])\n",
    "col=np.array([[0,2],[0,2]])\n",
    "y[row,col]\n",
    "            #Bu da üstteki rows cows sorusu için gruptaki Özhan K adlı arkadaşın son derece profesyonel çözümü. Aslında aynısını yapmış ama hocadan önce yapıp gönderdi. Altyapısı var."
   ]
  },
  {
   "cell_type": "code",
   "execution_count": 167,
   "id": "2ca8fd5a-6811-4fa0-9709-06be1b79adff",
   "metadata": {},
   "outputs": [
    {
     "data": {
      "text/plain": [
       "array([[ 66,   1,  88],\n",
       "       [ 11,   4,   5],\n",
       "       [  6,   7,   8],\n",
       "       [ 99,  10, 111]])"
      ]
     },
     "execution_count": 167,
     "metadata": {},
     "output_type": "execute_result"
    }
   ],
   "source": [
    "y # y arrayini tekrar bi görelim ve hatırlayalım"
   ]
  },
  {
   "cell_type": "code",
   "execution_count": 168,
   "id": "cd763f75-11b1-41dc-b747-0086a202ace3",
   "metadata": {},
   "outputs": [
    {
     "data": {
      "text/plain": [
       "array([ 66,  88,  99, 111])"
      ]
     },
     "execution_count": 168,
     "metadata": {},
     "output_type": "execute_result"
    }
   ],
   "source": [
    "y[y>50] # Buna süzme işlemi deniyor. y arrayimizin içindeki 50'den büyük değerleri süzüyor ve tek boyutlu array olarak çekiyoruz"
   ]
  },
  {
   "cell_type": "code",
   "execution_count": 169,
   "id": "125e9197-3804-49d1-842d-80f1bdf82490",
   "metadata": {},
   "outputs": [
    {
     "data": {
      "text/plain": [
       "array([1, 4])"
      ]
     },
     "execution_count": 169,
     "metadata": {},
     "output_type": "execute_result"
    }
   ],
   "source": [
    "y[y<5] # Bu da y arrayi içindeki 5'den küçük değerleri süzüp çekme işlemi"
   ]
  },
  {
   "cell_type": "code",
   "execution_count": 170,
   "id": "665c7cd9-3da6-46ce-86e7-461590a2fbe5",
   "metadata": {},
   "outputs": [
    {
     "data": {
      "text/plain": [
       "array([], dtype=int32)"
      ]
     },
     "execution_count": 170,
     "metadata": {},
     "output_type": "execute_result"
    }
   ],
   "source": [
    "y[y==3] # y arrayi içindeki 3'e eşit olan değerleri süz demek. Hiç olmadığı için boş bir array döndürecek"
   ]
  },
  {
   "cell_type": "code",
   "execution_count": 171,
   "id": "0cb977f8-1b9f-41e4-8dc9-c82586f50a0e",
   "metadata": {},
   "outputs": [
    {
     "data": {
      "text/plain": [
       "array([ 1.,  2., nan,  3.,  4.,  5., nan])"
      ]
     },
     "execution_count": 171,
     "metadata": {},
     "output_type": "execute_result"
    }
   ],
   "source": [
    "arr5 = np.array([1,2,np.nan,3,4,5,np.nan]) # arr5 adında 1,2,nan,3,4,5,nan değerlerinden oluşan bir array oluşturduk. Bunun nan değerlerini sileceğiz ve verimizi temizleyeceğiz.\n",
    "arr5 # Önce bi arr5 arrayimizi yazdıralım ve görelim"
   ]
  },
  {
   "cell_type": "code",
   "execution_count": 172,
   "id": "c573679d-8734-4546-a52c-18b6e94ff130",
   "metadata": {},
   "outputs": [
    {
     "data": {
      "text/plain": [
       "array([False, False,  True, False, False, False,  True])"
      ]
     },
     "execution_count": 172,
     "metadata": {},
     "output_type": "execute_result"
    }
   ],
   "source": [
    "np.isnan(arr5) # np.isnan fonksiyonu arrayin içindeki bütün nan değerleri için True, nan olmayan değerler için False döndürür."
   ]
  },
  {
   "cell_type": "code",
   "execution_count": 173,
   "id": "a120387e-b435-432e-ade9-cd537ed8df3a",
   "metadata": {},
   "outputs": [
    {
     "data": {
      "text/plain": [
       "array([1., 2., 3., 4., 5.])"
      ]
     },
     "execution_count": 173,
     "metadata": {},
     "output_type": "execute_result"
    }
   ],
   "source": [
    "arr5[~np.isnan(arr5)] # arr5 arrayinin içindeki nan değerleri haricindeki bütün değerleri döndür anlamına geliyor. ~ işareti matematikteki kümelerde de kullanılıyor. Tümleyen demek ve tamamen aynı mantığı var."
   ]
  },
  {
   "cell_type": "markdown",
   "id": "fb2fb659-5e2b-4f82-93f7-c33c1e04542b",
   "metadata": {},
   "source": [
    " 07.06.2022 tarihindeki NumPy dersimizden çıkardığım notlar.\n",
    " Ömrümde çıkarttığım en düzenli notlar olabilir.\n",
    " Saat 12'yi geçti ve 08.06.2022 tarihine girdik. \n",
    " An itibariyle ben de tam da şuan 26 yaşına girmiş bulunmaktayım.\n",
    " Yeni yaşımla birlikte güzel bir geleceğin kapısını aralamış olurum inşallah..."
   ]
  },
  {
   "cell_type": "code",
   "execution_count": null,
   "id": "ddfc1041-af1a-4d26-a206-43525c24a4e1",
   "metadata": {},
   "outputs": [],
   "source": []
  },
  {
   "cell_type": "code",
   "execution_count": null,
   "id": "134b40de-4ed0-4e50-bf64-d9d85ecd34d8",
   "metadata": {},
   "outputs": [],
   "source": []
  },
  {
   "cell_type": "code",
   "execution_count": null,
   "id": "422d5c3d-18f0-44b8-bfe7-19514149e5aa",
   "metadata": {},
   "outputs": [],
   "source": []
  },
  {
   "cell_type": "code",
   "execution_count": null,
   "id": "d55aefa2-4630-4550-96e4-d6dbc3e1d36e",
   "metadata": {},
   "outputs": [],
   "source": []
  },
  {
   "cell_type": "code",
   "execution_count": null,
   "id": "219d46de-659e-4a88-8254-96c16d30462a",
   "metadata": {},
   "outputs": [],
   "source": []
  },
  {
   "cell_type": "code",
   "execution_count": null,
   "id": "d51d014e-9331-4274-885f-00f982d9537c",
   "metadata": {},
   "outputs": [],
   "source": []
  },
  {
   "cell_type": "code",
   "execution_count": null,
   "id": "8214027f-7c6b-4c54-bac3-49c71686e1c3",
   "metadata": {},
   "outputs": [],
   "source": []
  },
  {
   "cell_type": "code",
   "execution_count": null,
   "id": "87eee9b7-ce31-4618-ac3c-8b25bea143e2",
   "metadata": {},
   "outputs": [],
   "source": []
  },
  {
   "cell_type": "code",
   "execution_count": null,
   "id": "d86d83fc-7c1b-4792-8045-954590d3d8d3",
   "metadata": {},
   "outputs": [],
   "source": []
  }
 ],
 "metadata": {
  "kernelspec": {
   "display_name": "Python 3 (ipykernel)",
   "language": "python",
   "name": "python3"
  },
  "language_info": {
   "codemirror_mode": {
    "name": "ipython",
    "version": 3
   },
   "file_extension": ".py",
   "mimetype": "text/x-python",
   "name": "python",
   "nbconvert_exporter": "python",
   "pygments_lexer": "ipython3",
   "version": "3.9.12"
  }
 },
 "nbformat": 4,
 "nbformat_minor": 5
}
