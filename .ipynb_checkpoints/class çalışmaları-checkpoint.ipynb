{
 "cells": [
  {
   "cell_type": "code",
   "execution_count": 42,
   "id": "cfcbfbc1",
   "metadata": {},
   "outputs": [],
   "source": [
    "class Okul():\n",
    "    Bölüm = 'Mühendislik'"
   ]
  },
  {
   "cell_type": "code",
   "execution_count": 43,
   "id": "1bf54450",
   "metadata": {},
   "outputs": [],
   "source": [
    "okul1 = Okul()"
   ]
  },
  {
   "cell_type": "code",
   "execution_count": 44,
   "id": "26bdccbe",
   "metadata": {},
   "outputs": [
    {
     "data": {
      "text/plain": [
       "'Mühendislik'"
      ]
     },
     "execution_count": 44,
     "metadata": {},
     "output_type": "execute_result"
    }
   ],
   "source": [
    "okul1.Bölüm"
   ]
  },
  {
   "cell_type": "code",
   "execution_count": 45,
   "id": "6e8c1795",
   "metadata": {},
   "outputs": [],
   "source": [
    "class Okul():\n",
    "    Bölüm = 'Mühendislik'\n",
    "    \n",
    "    def _init_(self, isim,soyisim,sınıf,numara,yas,ders_sayısı,adres):\n",
    "        self.isim = isim\n",
    "        self.soyisim = soyisim\n",
    "        self.sınıf = sınıf\n",
    "        self.numara = numara\n",
    "        self.yas = yas\n",
    "        self.ders_sayısı = ders_sayısı\n",
    "        self.adres = adres\n",
    "        "
   ]
  },
  {
   "cell_type": "code",
   "execution_count": 47,
   "id": "d2516b3b",
   "metadata": {},
   "outputs": [],
   "source": [
    "okul2 = Okul()"
   ]
  },
  {
   "cell_type": "code",
   "execution_count": 48,
   "id": "898f72f1",
   "metadata": {},
   "outputs": [
    {
     "ename": "TypeError",
     "evalue": "Okul() takes no arguments",
     "output_type": "error",
     "traceback": [
      "\u001b[1;31m---------------------------------------------------------------------------\u001b[0m",
      "\u001b[1;31mTypeError\u001b[0m                                 Traceback (most recent call last)",
      "\u001b[1;32m~\\AppData\\Local\\Temp/ipykernel_12884/3005993652.py\u001b[0m in \u001b[0;36m<module>\u001b[1;34m\u001b[0m\n\u001b[1;32m----> 1\u001b[1;33m \u001b[0mokul2\u001b[0m \u001b[1;33m=\u001b[0m \u001b[0mOkul\u001b[0m\u001b[1;33m(\u001b[0m\u001b[1;34m'hasan'\u001b[0m\u001b[1;33m,\u001b[0m \u001b[1;34m'aydın'\u001b[0m\u001b[1;33m,\u001b[0m \u001b[1;36m4\u001b[0m\u001b[1;33m,\u001b[0m \u001b[1;36m226\u001b[0m\u001b[1;33m,\u001b[0m \u001b[1;36m32\u001b[0m\u001b[1;33m,\u001b[0m \u001b[1;36m9\u001b[0m\u001b[1;33m,\u001b[0m \u001b[1;34m'beşiktaş'\u001b[0m\u001b[1;33m)\u001b[0m\u001b[1;33m\u001b[0m\u001b[1;33m\u001b[0m\u001b[0m\n\u001b[0m",
      "\u001b[1;31mTypeError\u001b[0m: Okul() takes no arguments"
     ]
    }
   ],
   "source": [
    "okul2 = Okul('hasan', 'aydın', 4, 226, 32, 9, 'beşiktaş')"
   ]
  },
  {
   "cell_type": "code",
   "execution_count": null,
   "id": "2f7c9337",
   "metadata": {},
   "outputs": [],
   "source": [
    "okul3 = Okul()"
   ]
  }
 ],
 "metadata": {
  "kernelspec": {
   "display_name": "Python 3 (ipykernel)",
   "language": "python",
   "name": "python3"
  },
  "language_info": {
   "codemirror_mode": {
    "name": "ipython",
    "version": 3
   },
   "file_extension": ".py",
   "mimetype": "text/x-python",
   "name": "python",
   "nbconvert_exporter": "python",
   "pygments_lexer": "ipython3",
   "version": "3.9.7"
  }
 },
 "nbformat": 4,
 "nbformat_minor": 5
}
