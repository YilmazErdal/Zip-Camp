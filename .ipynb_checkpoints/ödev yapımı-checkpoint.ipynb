{
 "cells": [
  {
   "cell_type": "code",
   "execution_count": 3,
   "id": "c927cab4",
   "metadata": {},
   "outputs": [],
   "source": [
    "def üstel_sayı():\n",
    "    a= int(input('bir sayı giriniz:'))\n",
    "    b= int(input('bir sayı giriniz:'))\n",
    "    print(a**b)"
   ]
  },
  {
   "cell_type": "code",
   "execution_count": 4,
   "id": "2f6a0861",
   "metadata": {},
   "outputs": [
    {
     "name": "stdout",
     "output_type": "stream",
     "text": [
      "bir sayı giriniz:4\n",
      "bir sayı giriniz:3\n",
      "64\n"
     ]
    }
   ],
   "source": [
    "üstel_sayı()"
   ]
  },
  {
   "cell_type": "code",
   "execution_count": 5,
   "id": "7ba07263",
   "metadata": {},
   "outputs": [],
   "source": [
    "def üslü_sayı(sayı1,sayı2):\n",
    "    print(sayı1**sayı2)"
   ]
  },
  {
   "cell_type": "code",
   "execution_count": 6,
   "id": "877b9fd4",
   "metadata": {},
   "outputs": [
    {
     "name": "stdout",
     "output_type": "stream",
     "text": [
      "125\n"
     ]
    }
   ],
   "source": [
    "üslü_sayı(5,3)"
   ]
  },
  {
   "cell_type": "code",
   "execution_count": 20,
   "id": "d2e09d5e",
   "metadata": {},
   "outputs": [],
   "source": [
    "def üslü_sayı(a,b):\n",
    "    \n",
    "    sonuc = 1\n",
    "    for b in range(1,b+1):\n",
    "        sonuc = sonuc * a\n",
    "    return sonuc\n",
    "\n",
    "  \n"
   ]
  },
  {
   "cell_type": "code",
   "execution_count": 21,
   "id": "d32d118d",
   "metadata": {},
   "outputs": [
    {
     "data": {
      "text/plain": [
       "49"
      ]
     },
     "execution_count": 21,
     "metadata": {},
     "output_type": "execute_result"
    }
   ],
   "source": [
    "üslü_sayı(7,2)"
   ]
  },
  {
   "cell_type": "code",
   "execution_count": 22,
   "id": "8b1f5f4e",
   "metadata": {},
   "outputs": [
    {
     "data": {
      "text/plain": [
       "243"
      ]
     },
     "execution_count": 22,
     "metadata": {},
     "output_type": "execute_result"
    }
   ],
   "source": [
    "üslü_sayı(3,5)"
   ]
  },
  {
   "cell_type": "code",
   "execution_count": 23,
   "id": "3ac69054",
   "metadata": {},
   "outputs": [],
   "source": [
    "liste = [3,7,30,4,25,100,17,500]"
   ]
  },
  {
   "cell_type": "code",
   "execution_count": 27,
   "id": "ed61555f",
   "metadata": {},
   "outputs": [],
   "source": [
    "liste.sort()"
   ]
  },
  {
   "cell_type": "code",
   "execution_count": 28,
   "id": "fdf8a556",
   "metadata": {},
   "outputs": [
    {
     "data": {
      "text/plain": [
       "[3, 4, 7, 17, 25, 30, 100, 500]"
      ]
     },
     "execution_count": 28,
     "metadata": {},
     "output_type": "execute_result"
    }
   ],
   "source": [
    "liste"
   ]
  },
  {
   "cell_type": "code",
   "execution_count": 29,
   "id": "05463b11",
   "metadata": {},
   "outputs": [
    {
     "data": {
      "text/plain": [
       "8"
      ]
     },
     "execution_count": 29,
     "metadata": {},
     "output_type": "execute_result"
    }
   ],
   "source": [
    "len(liste)"
   ]
  },
  {
   "cell_type": "code",
   "execution_count": 34,
   "id": "15012301",
   "metadata": {},
   "outputs": [
    {
     "data": {
      "text/plain": [
       "(500, 100)"
      ]
     },
     "execution_count": 34,
     "metadata": {},
     "output_type": "execute_result"
    }
   ],
   "source": [
    "liste[-1],liste[-2]"
   ]
  },
  {
   "cell_type": "code",
   "execution_count": 35,
   "id": "d97f6bc7",
   "metadata": {},
   "outputs": [],
   "source": [
    "def son_ikiindex_döndür(liste):\n",
    "    liste.sort()\n",
    "    return liste[-1],liste[-2]"
   ]
  },
  {
   "cell_type": "code",
   "execution_count": 36,
   "id": "40cf6394",
   "metadata": {},
   "outputs": [
    {
     "data": {
      "text/plain": [
       "(500, 100)"
      ]
     },
     "execution_count": 36,
     "metadata": {},
     "output_type": "execute_result"
    }
   ],
   "source": [
    "son_ikiindex_döndür(liste)"
   ]
  },
  {
   "cell_type": "code",
   "execution_count": 78,
   "id": "d45aadc7",
   "metadata": {},
   "outputs": [],
   "source": [
    "liste3 = [900000000,120000000,67,168,2,78,873]"
   ]
  },
  {
   "cell_type": "code",
   "execution_count": 79,
   "id": "8f0c125c",
   "metadata": {},
   "outputs": [
    {
     "data": {
      "text/plain": [
       "(900000000, 120000000)"
      ]
     },
     "execution_count": 79,
     "metadata": {},
     "output_type": "execute_result"
    }
   ],
   "source": [
    "son_ikiindex_döndür(liste3)"
   ]
  },
  {
   "cell_type": "code",
   "execution_count": 39,
   "id": "3e466241",
   "metadata": {},
   "outputs": [],
   "source": [
    "liste4 = ['Ali',5,17,'ferit','Orhan',12,'Agah',25]"
   ]
  },
  {
   "cell_type": "code",
   "execution_count": 45,
   "id": "8c52e6d2",
   "metadata": {},
   "outputs": [],
   "source": [
    "def filtreleme(liste4):\n",
    "    sonuc = []\n",
    "    \n",
    "    for x in liste4:\n",
    "        if type(x)== str:\n",
    "            sonuc.append(x)\n",
    "        else:\n",
    "            pass\n",
    "    return sonuc\n",
    "    "
   ]
  },
  {
   "cell_type": "code",
   "execution_count": 47,
   "id": "6317efd8",
   "metadata": {},
   "outputs": [
    {
     "data": {
      "text/plain": [
       "['Ali', 'ferit', 'Orhan', 'Agah']"
      ]
     },
     "execution_count": 47,
     "metadata": {},
     "output_type": "execute_result"
    }
   ],
   "source": [
    "filtreleme(liste4)"
   ]
  },
  {
   "cell_type": "code",
   "execution_count": 52,
   "id": "05d1dd1b",
   "metadata": {},
   "outputs": [
    {
     "data": {
      "text/plain": [
       "['Ali', 'ferit', 'Orhan', 'Agah']"
      ]
     },
     "execution_count": 52,
     "metadata": {},
     "output_type": "execute_result"
    }
   ],
   "source": [
    "list(filter(lambda x: x if type(x) == str else None, liste4))"
   ]
  },
  {
   "cell_type": "code",
   "execution_count": 53,
   "id": "3fcd4a98",
   "metadata": {},
   "outputs": [],
   "source": [
    "liste5 = [1000000,5000000,23000000,20000000,98000000]"
   ]
  },
  {
   "cell_type": "code",
   "execution_count": 72,
   "id": "d7e98a31",
   "metadata": {},
   "outputs": [],
   "source": [
    "def Paradan_sıfır_atma(liste):\n",
    "    return list(map(lambda x: int(x/1000000), liste))"
   ]
  },
  {
   "cell_type": "code",
   "execution_count": 73,
   "id": "9d1e4926",
   "metadata": {},
   "outputs": [
    {
     "data": {
      "text/plain": [
       "[1, 5, 23, 20, 98]"
      ]
     },
     "execution_count": 73,
     "metadata": {},
     "output_type": "execute_result"
    }
   ],
   "source": [
    "Paradan_sıfır_atma(liste5)"
   ]
  },
  {
   "cell_type": "code",
   "execution_count": 80,
   "id": "b6354079",
   "metadata": {},
   "outputs": [
    {
     "data": {
      "text/plain": [
       "[0, 0, 0, 0, 0, 120, 900]"
      ]
     },
     "execution_count": 80,
     "metadata": {},
     "output_type": "execute_result"
    }
   ],
   "source": [
    "Paradan_sıfır_atma(liste3)"
   ]
  },
  {
   "cell_type": "code",
   "execution_count": 82,
   "id": "cefbbbf5",
   "metadata": {},
   "outputs": [],
   "source": [
    "liste6 = [1200000,39,400000000,48000,100000000]"
   ]
  },
  {
   "cell_type": "code",
   "execution_count": 83,
   "id": "ed507acf",
   "metadata": {},
   "outputs": [
    {
     "data": {
      "text/plain": [
       "[1, 0, 400, 0, 100]"
      ]
     },
     "execution_count": 83,
     "metadata": {},
     "output_type": "execute_result"
    }
   ],
   "source": [
    "Paradan_sıfır_atma(liste6)"
   ]
  },
  {
   "cell_type": "code",
   "execution_count": 89,
   "id": "ae105165",
   "metadata": {},
   "outputs": [],
   "source": [
    "def saat_ayarlama():\n",
    "    \n",
    "    saat = input('Bir saat giriniz:')\n",
    "    \n",
    "    if saat.isdigit():\n",
    "        saat= int(saat)\n",
    "        if ((saat>=0) and (saat<24)):\n",
    "            dakika = input('Bir dakika giriniz:')\n",
    "            if dakika.isdigit():\n",
    "                dakika = int(dakika)\n",
    "                if ((dakika>=0) and (dakika <60)):\n",
    "                    return'Saat {}:{} olarak görülmektedir'.format(saat,dakika)\n",
    "                else:\n",
    "                    return('girilen dakika aralığı yanlış')\n",
    "            else:\n",
    "                return('Girilen dakika yanlış veri tipinde')\n",
    "        else:\n",
    "            return('Girilen saat aralığı yanlış')\n",
    "    else:\n",
    "        return('Girilen saat yanlış veri tipinde')"
   ]
  },
  {
   "cell_type": "code",
   "execution_count": 90,
   "id": "bdc782c6",
   "metadata": {},
   "outputs": [
    {
     "name": "stdout",
     "output_type": "stream",
     "text": [
      "Bir saat giriniz:12\n",
      "Bir dakika giriniz:54\n"
     ]
    },
    {
     "data": {
      "text/plain": [
       "'Saat 12:54 olarak görülmektedir'"
      ]
     },
     "execution_count": 90,
     "metadata": {},
     "output_type": "execute_result"
    }
   ],
   "source": [
    "saat_ayarlama()"
   ]
  },
  {
   "cell_type": "code",
   "execution_count": null,
   "id": "9ca34977",
   "metadata": {},
   "outputs": [],
   "source": []
  }
 ],
 "metadata": {
  "kernelspec": {
   "display_name": "Python 3 (ipykernel)",
   "language": "python",
   "name": "python3"
  },
  "language_info": {
   "codemirror_mode": {
    "name": "ipython",
    "version": 3
   },
   "file_extension": ".py",
   "mimetype": "text/x-python",
   "name": "python",
   "nbconvert_exporter": "python",
   "pygments_lexer": "ipython3",
   "version": "3.9.7"
  }
 },
 "nbformat": 4,
 "nbformat_minor": 5
}
