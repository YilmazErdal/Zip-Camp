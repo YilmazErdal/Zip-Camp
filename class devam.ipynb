{
 "cells": [
  {
   "cell_type": "code",
   "execution_count": 1,
   "id": "74cb3aed",
   "metadata": {},
   "outputs": [],
   "source": [
    "class Araba():\n",
    "    model = 'Bmw'\n",
    "    renk = 'beyaz'\n",
    "    güç = 160\n",
    "    silindir = 4"
   ]
  },
  {
   "cell_type": "code",
   "execution_count": 2,
   "id": "5d6ccfb2",
   "metadata": {},
   "outputs": [],
   "source": [
    "araba1 = Araba()"
   ]
  },
  {
   "cell_type": "code",
   "execution_count": 3,
   "id": "d386b0e4",
   "metadata": {},
   "outputs": [
    {
     "data": {
      "text/plain": [
       "<__main__.Araba at 0x13afa8b24c0>"
      ]
     },
     "execution_count": 3,
     "metadata": {},
     "output_type": "execute_result"
    }
   ],
   "source": [
    "araba1"
   ]
  },
  {
   "cell_type": "code",
   "execution_count": 4,
   "id": "a523aeaf",
   "metadata": {},
   "outputs": [],
   "source": [
    "araba2 = Araba()"
   ]
  },
  {
   "cell_type": "code",
   "execution_count": 5,
   "id": "5fbde6ad",
   "metadata": {},
   "outputs": [
    {
     "name": "stdout",
     "output_type": "stream",
     "text": [
      "<__main__.Araba object at 0x0000013AFA7FD910>\n"
     ]
    }
   ],
   "source": [
    "print(araba2)"
   ]
  },
  {
   "cell_type": "code",
   "execution_count": 6,
   "id": "fd16654c",
   "metadata": {},
   "outputs": [
    {
     "data": {
      "text/plain": [
       "'beyaz'"
      ]
     },
     "execution_count": 6,
     "metadata": {},
     "output_type": "execute_result"
    }
   ],
   "source": [
    "araba1.renk"
   ]
  },
  {
   "cell_type": "code",
   "execution_count": 7,
   "id": "2a0e3b1c",
   "metadata": {},
   "outputs": [
    {
     "data": {
      "text/plain": [
       "'Bmw'"
      ]
     },
     "execution_count": 7,
     "metadata": {},
     "output_type": "execute_result"
    }
   ],
   "source": [
    "araba2.model"
   ]
  },
  {
   "cell_type": "code",
   "execution_count": 8,
   "id": "9930d673",
   "metadata": {},
   "outputs": [
    {
     "data": {
      "text/plain": [
       "4"
      ]
     },
     "execution_count": 8,
     "metadata": {},
     "output_type": "execute_result"
    }
   ],
   "source": [
    "Araba.silindir"
   ]
  },
  {
   "cell_type": "code",
   "execution_count": 9,
   "id": "b41fb789",
   "metadata": {},
   "outputs": [
    {
     "data": {
      "text/plain": [
       "['__class__',\n",
       " '__delattr__',\n",
       " '__dict__',\n",
       " '__dir__',\n",
       " '__doc__',\n",
       " '__eq__',\n",
       " '__format__',\n",
       " '__ge__',\n",
       " '__getattribute__',\n",
       " '__gt__',\n",
       " '__hash__',\n",
       " '__init__',\n",
       " '__init_subclass__',\n",
       " '__le__',\n",
       " '__lt__',\n",
       " '__module__',\n",
       " '__ne__',\n",
       " '__new__',\n",
       " '__reduce__',\n",
       " '__reduce_ex__',\n",
       " '__repr__',\n",
       " '__setattr__',\n",
       " '__sizeof__',\n",
       " '__str__',\n",
       " '__subclasshook__',\n",
       " '__weakref__',\n",
       " 'güç',\n",
       " 'model',\n",
       " 'renk',\n",
       " 'silindir']"
      ]
     },
     "execution_count": 9,
     "metadata": {},
     "output_type": "execute_result"
    }
   ],
   "source": [
    "dir(araba1)"
   ]
  },
  {
   "cell_type": "code",
   "execution_count": 10,
   "id": "09d913d9",
   "metadata": {},
   "outputs": [],
   "source": [
    "class Araba():\n",
    "    \n",
    "    def __init__(self,model,renk,güç,silindir):\n",
    "        print('init fonksiyonu çağrıdı')\n",
    "        self.model= model\n",
    "        self.renk = renk\n",
    "        self.güç = güç\n",
    "        self.silindir = silindir"
   ]
  },
  {
   "cell_type": "code",
   "execution_count": 11,
   "id": "bd0bfb0d",
   "metadata": {},
   "outputs": [
    {
     "name": "stdout",
     "output_type": "stream",
     "text": [
      "init fonksiyonu çağrıdı\n"
     ]
    }
   ],
   "source": [
    "araba1 = Araba('audi','siyah',140,3)"
   ]
  },
  {
   "cell_type": "code",
   "execution_count": 12,
   "id": "1dfe1efd",
   "metadata": {},
   "outputs": [
    {
     "name": "stdout",
     "output_type": "stream",
     "text": [
      "init fonksiyonu çağrıdı\n"
     ]
    }
   ],
   "source": [
    "araba2 = Araba('kia','sarı',110,4)"
   ]
  },
  {
   "cell_type": "code",
   "execution_count": 13,
   "id": "ca123d9f",
   "metadata": {},
   "outputs": [
    {
     "data": {
      "text/plain": [
       "'kia'"
      ]
     },
     "execution_count": 13,
     "metadata": {},
     "output_type": "execute_result"
    }
   ],
   "source": [
    "araba2.model"
   ]
  },
  {
   "cell_type": "code",
   "execution_count": 14,
   "id": "43ea71d8",
   "metadata": {},
   "outputs": [
    {
     "data": {
      "text/plain": [
       "'siyah'"
      ]
     },
     "execution_count": 14,
     "metadata": {},
     "output_type": "execute_result"
    }
   ],
   "source": [
    "araba1.renk"
   ]
  },
  {
   "cell_type": "code",
   "execution_count": null,
   "id": "c22feb75",
   "metadata": {},
   "outputs": [],
   "source": []
  }
 ],
 "metadata": {
  "kernelspec": {
   "display_name": "Python 3 (ipykernel)",
   "language": "python",
   "name": "python3"
  },
  "language_info": {
   "codemirror_mode": {
    "name": "ipython",
    "version": 3
   },
   "file_extension": ".py",
   "mimetype": "text/x-python",
   "name": "python",
   "nbconvert_exporter": "python",
   "pygments_lexer": "ipython3",
   "version": "3.9.7"
  }
 },
 "nbformat": 4,
 "nbformat_minor": 5
}
