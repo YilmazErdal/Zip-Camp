{
 "cells": [
  {
   "cell_type": "code",
   "execution_count": 1,
   "id": "9e3fddc2",
   "metadata": {},
   "outputs": [],
   "source": [
    "class Ucus():\n",
    "    havayolu = \"THY\"\n",
    "    \n",
    "    def __init__(self, kod, kalkis, varis, sure, kapasite, yolcu):\n",
    "        self.kod = kod\n",
    "        self.kalkis = kalkis\n",
    "        self.varis = varis\n",
    "        self.sure = sure\n",
    "        self.kapasite = kapasite\n",
    "        self.yolcu = yolcu"
   ]
  },
  {
   "cell_type": "code",
   "execution_count": 2,
   "id": "8be039c8",
   "metadata": {},
   "outputs": [
    {
     "ename": "TypeError",
     "evalue": "__init__() missing 6 required positional arguments: 'kod', 'kalkis', 'varis', 'sure', 'kapasite', and 'yolcu'",
     "output_type": "error",
     "traceback": [
      "\u001b[1;31m---------------------------------------------------------------------------\u001b[0m",
      "\u001b[1;31mTypeError\u001b[0m                                 Traceback (most recent call last)",
      "\u001b[1;32m~\\AppData\\Local\\Temp/ipykernel_12096/512630858.py\u001b[0m in \u001b[0;36m<module>\u001b[1;34m\u001b[0m\n\u001b[1;32m----> 1\u001b[1;33m \u001b[0mucus1\u001b[0m \u001b[1;33m=\u001b[0m \u001b[0mUcus\u001b[0m\u001b[1;33m(\u001b[0m\u001b[1;33m)\u001b[0m\u001b[1;33m\u001b[0m\u001b[1;33m\u001b[0m\u001b[0m\n\u001b[0m",
      "\u001b[1;31mTypeError\u001b[0m: __init__() missing 6 required positional arguments: 'kod', 'kalkis', 'varis', 'sure', 'kapasite', and 'yolcu'"
     ]
    }
   ],
   "source": [
    "ucus1 = Ucus()"
   ]
  },
  {
   "cell_type": "code",
   "execution_count": 3,
   "id": "2bdb785c",
   "metadata": {},
   "outputs": [],
   "source": [
    "ucus2 = Ucus(34, 'ank', 'erz', 40, 200, 150)"
   ]
  },
  {
   "cell_type": "code",
   "execution_count": 4,
   "id": "2da1c66f",
   "metadata": {},
   "outputs": [
    {
     "data": {
      "text/plain": [
       "200"
      ]
     },
     "execution_count": 4,
     "metadata": {},
     "output_type": "execute_result"
    }
   ],
   "source": [
    "ucus2.kapasite"
   ]
  },
  {
   "cell_type": "code",
   "execution_count": 3,
   "id": "6446d062",
   "metadata": {},
   "outputs": [],
   "source": [
    "class Okul():\n",
    "    Bölüm = 'Mühendislik'\n",
    "    \n",
    "    def __init__(self, isim,soyisim,sınıf,numara,yas,ders_sayısı,adres):\n",
    "        self.isim = isim\n",
    "        self.soyisim = soyisim\n",
    "        self.sınıf = sınıf\n",
    "        self.numara = numara\n",
    "        self.yas = yas\n",
    "        self.ders_sayısı = ders_sayısı\n",
    "        self.adres = adres"
   ]
  },
  {
   "cell_type": "code",
   "execution_count": 4,
   "id": "1cfe7df4",
   "metadata": {},
   "outputs": [
    {
     "ename": "TypeError",
     "evalue": "__init__() missing 7 required positional arguments: 'isim', 'soyisim', 'sınıf', 'numara', 'yas', 'ders_sayısı', and 'adres'",
     "output_type": "error",
     "traceback": [
      "\u001b[1;31m---------------------------------------------------------------------------\u001b[0m",
      "\u001b[1;31mTypeError\u001b[0m                                 Traceback (most recent call last)",
      "\u001b[1;32m~\\AppData\\Local\\Temp/ipykernel_1384/1211488060.py\u001b[0m in \u001b[0;36m<module>\u001b[1;34m\u001b[0m\n\u001b[1;32m----> 1\u001b[1;33m \u001b[0mokul1\u001b[0m \u001b[1;33m=\u001b[0m \u001b[0mOkul\u001b[0m\u001b[1;33m(\u001b[0m\u001b[1;33m)\u001b[0m\u001b[1;33m\u001b[0m\u001b[1;33m\u001b[0m\u001b[0m\n\u001b[0m",
      "\u001b[1;31mTypeError\u001b[0m: __init__() missing 7 required positional arguments: 'isim', 'soyisim', 'sınıf', 'numara', 'yas', 'ders_sayısı', and 'adres'"
     ]
    }
   ],
   "source": [
    "okul1 = Okul()"
   ]
  },
  {
   "cell_type": "code",
   "execution_count": 5,
   "id": "41732bcc",
   "metadata": {},
   "outputs": [],
   "source": [
    "okul1 = Okul(\"erdal\",\"yılmaz\",5,221,43,11,\"beşiktaş\")"
   ]
  },
  {
   "cell_type": "code",
   "execution_count": 6,
   "id": "6f0593d5",
   "metadata": {},
   "outputs": [
    {
     "data": {
      "text/plain": [
       "43"
      ]
     },
     "execution_count": 6,
     "metadata": {},
     "output_type": "execute_result"
    }
   ],
   "source": [
    "okul1.yas"
   ]
  },
  {
   "cell_type": "code",
   "execution_count": null,
   "id": "12cc624a",
   "metadata": {},
   "outputs": [],
   "source": []
  }
 ],
 "metadata": {
  "kernelspec": {
   "display_name": "Python 3 (ipykernel)",
   "language": "python",
   "name": "python3"
  },
  "language_info": {
   "codemirror_mode": {
    "name": "ipython",
    "version": 3
   },
   "file_extension": ".py",
   "mimetype": "text/x-python",
   "name": "python",
   "nbconvert_exporter": "python",
   "pygments_lexer": "ipython3",
   "version": "3.9.7"
  }
 },
 "nbformat": 4,
 "nbformat_minor": 5
}
