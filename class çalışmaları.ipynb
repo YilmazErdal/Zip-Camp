{
 "cells": [
  {
   "cell_type": "code",
   "execution_count": 9,
   "id": "f7b8c4fe",
   "metadata": {},
   "outputs": [],
   "source": [
    "class Okul():\n",
    "    Bölüm = 'Mühendislik'"
   ]
  },
  {
   "cell_type": "code",
   "execution_count": 10,
   "id": "bd0a347e",
   "metadata": {},
   "outputs": [],
   "source": [
    "okul1 = Okul()"
   ]
  },
  {
   "cell_type": "code",
   "execution_count": 11,
   "id": "d5c56f0e",
   "metadata": {},
   "outputs": [
    {
     "data": {
      "text/plain": [
       "'Mühendislik'"
      ]
     },
     "execution_count": 11,
     "metadata": {},
     "output_type": "execute_result"
    }
   ],
   "source": [
    "okul1.Bölüm"
   ]
  },
  {
   "cell_type": "code",
   "execution_count": 20,
   "id": "d86e975f",
   "metadata": {},
   "outputs": [],
   "source": [
    "class Okul():\n",
    "    Bölüm = 'Mühendislik'\n",
    "    \n",
    "    def __init__(self, isim,soyisim,sınıf,kayıt,kontenjan,ders_sayısı,adres):\n",
    "        self.isim = isim\n",
    "        self.soyisim = soyisim\n",
    "        self.sınıf = sınıf\n",
    "        self.kayıt = kayıt\n",
    "        self.kontenjan = kontenjan\n",
    "        self.ders_sayısı = ders_sayısı\n",
    "        self.adres = adres\n",
    "        "
   ]
  },
  {
   "cell_type": "code",
   "execution_count": 21,
   "id": "81c36c4e",
   "metadata": {},
   "outputs": [
    {
     "ename": "TypeError",
     "evalue": "__init__() missing 7 required positional arguments: 'isim', 'soyisim', 'sınıf', 'kayıt', 'kontenjan', 'ders_sayısı', and 'adres'",
     "output_type": "error",
     "traceback": [
      "\u001b[1;31m---------------------------------------------------------------------------\u001b[0m",
      "\u001b[1;31mTypeError\u001b[0m                                 Traceback (most recent call last)",
      "\u001b[1;32m~\\AppData\\Local\\Temp/ipykernel_16076/2631778895.py\u001b[0m in \u001b[0;36m<module>\u001b[1;34m\u001b[0m\n\u001b[1;32m----> 1\u001b[1;33m \u001b[0mokul2\u001b[0m \u001b[1;33m=\u001b[0m \u001b[0mOkul\u001b[0m\u001b[1;33m(\u001b[0m\u001b[1;33m)\u001b[0m\u001b[1;33m\u001b[0m\u001b[1;33m\u001b[0m\u001b[0m\n\u001b[0m",
      "\u001b[1;31mTypeError\u001b[0m: __init__() missing 7 required positional arguments: 'isim', 'soyisim', 'sınıf', 'kayıt', 'kontenjan', 'ders_sayısı', and 'adres'"
     ]
    }
   ],
   "source": [
    "okul2 = Okul()"
   ]
  },
  {
   "cell_type": "code",
   "execution_count": 22,
   "id": "22cfeec3",
   "metadata": {},
   "outputs": [],
   "source": [
    "okul2 = Okul('hasan', 'aydın', 4, 36, 75, 9, 'beşiktaş')"
   ]
  },
  {
   "cell_type": "code",
   "execution_count": 23,
   "id": "fcf69a37",
   "metadata": {},
   "outputs": [
    {
     "data": {
      "text/plain": [
       "36"
      ]
     },
     "execution_count": 23,
     "metadata": {},
     "output_type": "execute_result"
    }
   ],
   "source": [
    "okul2.kayıt"
   ]
  },
  {
   "cell_type": "code",
   "execution_count": 24,
   "id": "5df8eb6f",
   "metadata": {},
   "outputs": [
    {
     "data": {
      "text/plain": [
       "'beşiktaş'"
      ]
     },
     "execution_count": 24,
     "metadata": {},
     "output_type": "execute_result"
    }
   ],
   "source": [
    "okul2.adres"
   ]
  },
  {
   "cell_type": "code",
   "execution_count": 25,
   "id": "e5f43fb4",
   "metadata": {},
   "outputs": [
    {
     "data": {
      "text/plain": [
       "['isim',\n",
       " 'soyisim',\n",
       " 'sınıf',\n",
       " 'kayıt',\n",
       " 'kontenjan',\n",
       " 'ders_sayısı',\n",
       " 'adres',\n",
       " '__module__',\n",
       " 'Bölüm',\n",
       " '__init__',\n",
       " '__dict__',\n",
       " '__weakref__',\n",
       " '__doc__',\n",
       " '__repr__',\n",
       " '__hash__',\n",
       " '__str__',\n",
       " '__getattribute__',\n",
       " '__setattr__',\n",
       " '__delattr__',\n",
       " '__lt__',\n",
       " '__le__',\n",
       " '__eq__',\n",
       " '__ne__',\n",
       " '__gt__',\n",
       " '__ge__',\n",
       " '__new__',\n",
       " '__reduce_ex__',\n",
       " '__reduce__',\n",
       " '__subclasshook__',\n",
       " '__init_subclass__',\n",
       " '__format__',\n",
       " '__sizeof__',\n",
       " '__dir__',\n",
       " '__class__']"
      ]
     },
     "execution_count": 25,
     "metadata": {},
     "output_type": "execute_result"
    }
   ],
   "source": [
    "okul2.__dir__()"
   ]
  },
  {
   "cell_type": "code",
   "execution_count": 26,
   "id": "e0dcc9c6",
   "metadata": {},
   "outputs": [
    {
     "data": {
      "text/plain": [
       "'hasan'"
      ]
     },
     "execution_count": 26,
     "metadata": {},
     "output_type": "execute_result"
    }
   ],
   "source": [
    "okul2.isim"
   ]
  },
  {
   "cell_type": "code",
   "execution_count": 27,
   "id": "1a4f36d5",
   "metadata": {},
   "outputs": [
    {
     "data": {
      "text/plain": [
       "['__module__',\n",
       " 'Bölüm',\n",
       " '__dict__',\n",
       " '__weakref__',\n",
       " '__doc__',\n",
       " '__repr__',\n",
       " '__hash__',\n",
       " '__str__',\n",
       " '__getattribute__',\n",
       " '__setattr__',\n",
       " '__delattr__',\n",
       " '__lt__',\n",
       " '__le__',\n",
       " '__eq__',\n",
       " '__ne__',\n",
       " '__gt__',\n",
       " '__ge__',\n",
       " '__init__',\n",
       " '__new__',\n",
       " '__reduce_ex__',\n",
       " '__reduce__',\n",
       " '__subclasshook__',\n",
       " '__init_subclass__',\n",
       " '__format__',\n",
       " '__sizeof__',\n",
       " '__dir__',\n",
       " '__class__']"
      ]
     },
     "execution_count": 27,
     "metadata": {},
     "output_type": "execute_result"
    }
   ],
   "source": [
    "okul1.__dir__()"
   ]
  },
  {
   "cell_type": "code",
   "execution_count": null,
   "id": "cb348cd5",
   "metadata": {},
   "outputs": [],
   "source": []
  }
 ],
 "metadata": {
  "kernelspec": {
   "display_name": "Python 3 (ipykernel)",
   "language": "python",
   "name": "python3"
  },
  "language_info": {
   "codemirror_mode": {
    "name": "ipython",
    "version": 3
   },
   "file_extension": ".py",
   "mimetype": "text/x-python",
   "name": "python",
   "nbconvert_exporter": "python",
   "pygments_lexer": "ipython3",
   "version": "3.9.7"
  }
 },
 "nbformat": 4,
 "nbformat_minor": 5
}
