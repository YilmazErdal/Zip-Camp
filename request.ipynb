{
 "cells": [
  {
   "cell_type": "code",
   "execution_count": 2,
   "id": "33847265",
   "metadata": {},
   "outputs": [],
   "source": [
    "import requests"
   ]
  },
  {
   "cell_type": "code",
   "execution_count": 5,
   "id": "3bc62503",
   "metadata": {},
   "outputs": [],
   "source": [
    "Özel_bölge_url = 'https://data.police.uk/api/forces/leicestershire'\n",
    "\n",
    "respons =requests.get(Özel_bölge_url)"
   ]
  },
  {
   "cell_type": "code",
   "execution_count": 6,
   "id": "bb17321b",
   "metadata": {},
   "outputs": [
    {
     "data": {
      "text/plain": [
       "'{\"description\":null,\"url\":\"http:\\\\/\\\\/www.leics.police.uk\\\\/\",\"engagement_methods\":[{\"url\":\"http:\\\\/\\\\/www.facebook.com\\\\/leicspolice\",\"type\":\"facebook\",\"description\":null,\"title\":\"facebook\"},{\"url\":\"http:\\\\/\\\\/www.twitter.com\\\\/leicspolice\",\"type\":\"twitter\",\"description\":null,\"title\":\"twitter\"},{\"url\":\"http:\\\\/\\\\/www.youtube.com\\\\/leicspolice\",\"type\":\"youtube\",\"description\":null,\"title\":\"youtube\"},{\"url\":\"https:\\\\/\\\\/www.leics.police.uk\\\\/news\\\\/leicestershire\\\\/news\\\\/GetNewsRss\\\\/\",\"type\":\"rss\",\"description\":null,\"title\":\"rss\"},{\"url\":\"\",\"type\":\"telephone\",\"description\":null,\"title\":\"telephone\"}],\"telephone\":\"101\",\"id\":\"leicestershire\",\"name\":\"Leicestershire Police\"}'"
      ]
     },
     "execution_count": 6,
     "metadata": {},
     "output_type": "execute_result"
    }
   ],
   "source": [
    "respons.text"
   ]
  },
  {
   "cell_type": "code",
   "execution_count": 7,
   "id": "1643c6be",
   "metadata": {},
   "outputs": [
    {
     "data": {
      "text/plain": [
       "<bound method Response.json of <Response [200]>>"
      ]
     },
     "execution_count": 7,
     "metadata": {},
     "output_type": "execute_result"
    }
   ],
   "source": [
    "respons.json"
   ]
  },
  {
   "cell_type": "code",
   "execution_count": 8,
   "id": "4a052150",
   "metadata": {},
   "outputs": [
    {
     "data": {
      "text/plain": [
       "200"
      ]
     },
     "execution_count": 8,
     "metadata": {},
     "output_type": "execute_result"
    }
   ],
   "source": [
    "respons.status_code"
   ]
  },
  {
   "cell_type": "code",
   "execution_count": 9,
   "id": "077fc034",
   "metadata": {},
   "outputs": [
    {
     "data": {
      "text/plain": [
       "'https://data.police.uk/api/forces/leicestershire'"
      ]
     },
     "execution_count": 9,
     "metadata": {},
     "output_type": "execute_result"
    }
   ],
   "source": [
    "respons.url"
   ]
  },
  {
   "cell_type": "code",
   "execution_count": 10,
   "id": "9be165df",
   "metadata": {},
   "outputs": [
    {
     "data": {
      "text/plain": [
       "{'description': None,\n",
       " 'url': 'http://www.leics.police.uk/',\n",
       " 'engagement_methods': [{'url': 'http://www.facebook.com/leicspolice',\n",
       "   'type': 'facebook',\n",
       "   'description': None,\n",
       "   'title': 'facebook'},\n",
       "  {'url': 'http://www.twitter.com/leicspolice',\n",
       "   'type': 'twitter',\n",
       "   'description': None,\n",
       "   'title': 'twitter'},\n",
       "  {'url': 'http://www.youtube.com/leicspolice',\n",
       "   'type': 'youtube',\n",
       "   'description': None,\n",
       "   'title': 'youtube'},\n",
       "  {'url': 'https://www.leics.police.uk/news/leicestershire/news/GetNewsRss/',\n",
       "   'type': 'rss',\n",
       "   'description': None,\n",
       "   'title': 'rss'},\n",
       "  {'url': '', 'type': 'telephone', 'description': None, 'title': 'telephone'}],\n",
       " 'telephone': '101',\n",
       " 'id': 'leicestershire',\n",
       " 'name': 'Leicestershire Police'}"
      ]
     },
     "execution_count": 10,
     "metadata": {},
     "output_type": "execute_result"
    }
   ],
   "source": [
    "respons.json()"
   ]
  },
  {
   "cell_type": "code",
   "execution_count": 13,
   "id": "7f0d2d7f",
   "metadata": {},
   "outputs": [],
   "source": [
    "suc_kategorisi = 'https://data.police.uk/api/crime-categories'\n",
    "\n",
    "payload = {'date': '2022-04'}\n",
    "\n",
    "respons = requests.get(suc_kategorisi, params =payload)"
   ]
  },
  {
   "cell_type": "code",
   "execution_count": 14,
   "id": "03b27531",
   "metadata": {},
   "outputs": [
    {
     "data": {
      "text/plain": [
       "'https://data.police.uk/api/crime-categories?date=2022-04'"
      ]
     },
     "execution_count": 14,
     "metadata": {},
     "output_type": "execute_result"
    }
   ],
   "source": [
    "respons.url"
   ]
  },
  {
   "cell_type": "code",
   "execution_count": 15,
   "id": "89be996e",
   "metadata": {},
   "outputs": [
    {
     "data": {
      "text/plain": [
       "200"
      ]
     },
     "execution_count": 15,
     "metadata": {},
     "output_type": "execute_result"
    }
   ],
   "source": [
    "respons.status_code"
   ]
  },
  {
   "cell_type": "code",
   "execution_count": 16,
   "id": "b0ff5aa6",
   "metadata": {},
   "outputs": [
    {
     "data": {
      "text/plain": [
       "[{'url': 'all-crime', 'name': 'All crime'},\n",
       " {'url': 'anti-social-behaviour', 'name': 'Anti-social behaviour'},\n",
       " {'url': 'bicycle-theft', 'name': 'Bicycle theft'},\n",
       " {'url': 'burglary', 'name': 'Burglary'},\n",
       " {'url': 'criminal-damage-arson', 'name': 'Criminal damage and arson'},\n",
       " {'url': 'drugs', 'name': 'Drugs'},\n",
       " {'url': 'other-theft', 'name': 'Other theft'},\n",
       " {'url': 'possession-of-weapons', 'name': 'Possession of weapons'},\n",
       " {'url': 'public-order', 'name': 'Public order'},\n",
       " {'url': 'robbery', 'name': 'Robbery'},\n",
       " {'url': 'shoplifting', 'name': 'Shoplifting'},\n",
       " {'url': 'theft-from-the-person', 'name': 'Theft from the person'},\n",
       " {'url': 'vehicle-crime', 'name': 'Vehicle crime'},\n",
       " {'url': 'violent-crime', 'name': 'Violence and sexual offences'},\n",
       " {'url': 'other-crime', 'name': 'Other crime'}]"
      ]
     },
     "execution_count": 16,
     "metadata": {},
     "output_type": "execute_result"
    }
   ],
   "source": [
    "respons.json()"
   ]
  },
  {
   "cell_type": "code",
   "execution_count": null,
   "id": "d19f2048",
   "metadata": {},
   "outputs": [],
   "source": []
  }
 ],
 "metadata": {
  "kernelspec": {
   "display_name": "Python 3 (ipykernel)",
   "language": "python",
   "name": "python3"
  },
  "language_info": {
   "codemirror_mode": {
    "name": "ipython",
    "version": 3
   },
   "file_extension": ".py",
   "mimetype": "text/x-python",
   "name": "python",
   "nbconvert_exporter": "python",
   "pygments_lexer": "ipython3",
   "version": "3.9.7"
  }
 },
 "nbformat": 4,
 "nbformat_minor": 5
}
