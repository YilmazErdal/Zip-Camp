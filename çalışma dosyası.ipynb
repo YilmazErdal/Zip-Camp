{
 "cells": [
  {
   "cell_type": "code",
   "execution_count": 1,
   "id": "4c230821",
   "metadata": {},
   "outputs": [],
   "source": [
    "liste= [1,2,3,4,]"
   ]
  },
  {
   "cell_type": "code",
   "execution_count": 3,
   "id": "e1042413",
   "metadata": {},
   "outputs": [
    {
     "data": {
      "text/plain": [
       "list"
      ]
     },
     "execution_count": 3,
     "metadata": {},
     "output_type": "execute_result"
    }
   ],
   "source": [
    "type(liste)"
   ]
  },
  {
   "cell_type": "code",
   "execution_count": 4,
   "id": "812938a0",
   "metadata": {},
   "outputs": [],
   "source": [
    "liste.append(9)"
   ]
  },
  {
   "cell_type": "code",
   "execution_count": 5,
   "id": "705aae36",
   "metadata": {},
   "outputs": [
    {
     "data": {
      "text/plain": [
       "[1, 2, 3, 4, 9]"
      ]
     },
     "execution_count": 5,
     "metadata": {},
     "output_type": "execute_result"
    }
   ],
   "source": [
    "liste"
   ]
  },
  {
   "cell_type": "code",
   "execution_count": 6,
   "id": "a35dbadd",
   "metadata": {},
   "outputs": [],
   "source": [
    "sözlük = dict()\n"
   ]
  },
  {
   "cell_type": "code",
   "execution_count": 7,
   "id": "90a5b402",
   "metadata": {},
   "outputs": [
    {
     "data": {
      "text/plain": [
       "dict"
      ]
     },
     "execution_count": 7,
     "metadata": {},
     "output_type": "execute_result"
    }
   ],
   "source": [
    "type(sözlük)"
   ]
  },
  {
   "cell_type": "code",
   "execution_count": 8,
   "id": "e1743dec",
   "metadata": {},
   "outputs": [],
   "source": [
    "def toplama(a,b):\n",
    "    return a+b"
   ]
  },
  {
   "cell_type": "code",
   "execution_count": 9,
   "id": "1f30f9ed",
   "metadata": {},
   "outputs": [
    {
     "data": {
      "text/plain": [
       "12"
      ]
     },
     "execution_count": 9,
     "metadata": {},
     "output_type": "execute_result"
    }
   ],
   "source": [
    "toplama(3,9)"
   ]
  },
  {
   "cell_type": "code",
   "execution_count": 10,
   "id": "d64271c8",
   "metadata": {},
   "outputs": [
    {
     "data": {
      "text/plain": [
       "function"
      ]
     },
     "execution_count": 10,
     "metadata": {},
     "output_type": "execute_result"
    }
   ],
   "source": [
    "type(toplama)"
   ]
  },
  {
   "cell_type": "code",
   "execution_count": 11,
   "id": "6034568c",
   "metadata": {},
   "outputs": [
    {
     "ename": "TypeError",
     "evalue": "type() takes 1 or 3 arguments",
     "output_type": "error",
     "traceback": [
      "\u001b[1;31m---------------------------------------------------------------------------\u001b[0m",
      "\u001b[1;31mTypeError\u001b[0m                                 Traceback (most recent call last)",
      "\u001b[1;32m~\\AppData\\Local\\Temp/ipykernel_14376/3863844700.py\u001b[0m in \u001b[0;36m<module>\u001b[1;34m\u001b[0m\n\u001b[1;32m----> 1\u001b[1;33m \u001b[0mtype\u001b[0m\u001b[1;33m(\u001b[0m\u001b[1;36m3\u001b[0m\u001b[1;33m,\u001b[0m\u001b[1;36m4\u001b[0m\u001b[1;33m,\u001b[0m\u001b[1;36m2\u001b[0m\u001b[1;33m,\u001b[0m\u001b[1;36m6\u001b[0m\u001b[1;33m,\u001b[0m\u001b[1;36m8\u001b[0m\u001b[1;33m)\u001b[0m\u001b[1;33m\u001b[0m\u001b[1;33m\u001b[0m\u001b[0m\n\u001b[0m",
      "\u001b[1;31mTypeError\u001b[0m: type() takes 1 or 3 arguments"
     ]
    }
   ],
   "source": [
    "type(3,4,2,6,8)"
   ]
  },
  {
   "cell_type": "code",
   "execution_count": 12,
   "id": "80c916b2",
   "metadata": {},
   "outputs": [
    {
     "ename": "TypeError",
     "evalue": "type() takes 1 or 3 arguments",
     "output_type": "error",
     "traceback": [
      "\u001b[1;31m---------------------------------------------------------------------------\u001b[0m",
      "\u001b[1;31mTypeError\u001b[0m                                 Traceback (most recent call last)",
      "\u001b[1;32m~\\AppData\\Local\\Temp/ipykernel_14376/1481524146.py\u001b[0m in \u001b[0;36m<module>\u001b[1;34m\u001b[0m\n\u001b[1;32m----> 1\u001b[1;33m \u001b[0mtype\u001b[0m\u001b[1;33m(\u001b[0m\u001b[1;36m4\u001b[0m\u001b[1;33m,\u001b[0m\u001b[1;36m5\u001b[0m\u001b[1;33m,\u001b[0m\u001b[1;36m6\u001b[0m\u001b[1;33m,\u001b[0m\u001b[1;36m7\u001b[0m\u001b[1;33m)\u001b[0m\u001b[1;33m\u001b[0m\u001b[1;33m\u001b[0m\u001b[0m\n\u001b[0m",
      "\u001b[1;31mTypeError\u001b[0m: type() takes 1 or 3 arguments"
     ]
    }
   ],
   "source": [
    "type(4,5,6,7)"
   ]
  },
  {
   "cell_type": "code",
   "execution_count": 13,
   "id": "4ba62af3",
   "metadata": {},
   "outputs": [],
   "source": [
    "tur = (2,3,4,7,9)"
   ]
  },
  {
   "cell_type": "code",
   "execution_count": 14,
   "id": "4d96c380",
   "metadata": {},
   "outputs": [
    {
     "data": {
      "text/plain": [
       "tuple"
      ]
     },
     "execution_count": 14,
     "metadata": {},
     "output_type": "execute_result"
    }
   ],
   "source": [
    "type(tur)"
   ]
  },
  {
   "cell_type": "code",
   "execution_count": 6,
   "id": "875a4018",
   "metadata": {},
   "outputs": [],
   "source": [
    "def sayı_dondur(a,b):\n",
    "    return b"
   ]
  },
  {
   "cell_type": "code",
   "execution_count": 7,
   "id": "adde87aa",
   "metadata": {},
   "outputs": [
    {
     "data": {
      "text/plain": [
       "25"
      ]
     },
     "execution_count": 7,
     "metadata": {},
     "output_type": "execute_result"
    }
   ],
   "source": [
    "sayı_dondur(17,25)"
   ]
  },
  {
   "cell_type": "code",
   "execution_count": 13,
   "id": "7571aa6a",
   "metadata": {},
   "outputs": [],
   "source": [
    "def isim_birleştirme(isim,soyisim):\n",
    "    return ' '.join([isim,soyisim])\n",
    "  "
   ]
  },
  {
   "cell_type": "code",
   "execution_count": 14,
   "id": "69c90583",
   "metadata": {},
   "outputs": [
    {
     "data": {
      "text/plain": [
       "'Erdal Yılmaz'"
      ]
     },
     "execution_count": 14,
     "metadata": {},
     "output_type": "execute_result"
    }
   ],
   "source": [
    "isim_birleştirme('Erdal','Yılmaz')"
   ]
  },
  {
   "cell_type": "code",
   "execution_count": 19,
   "id": "b89d6a37",
   "metadata": {},
   "outputs": [],
   "source": [
    "def isim_ayırma(isim_soyisim):\n",
    "    isim = isim_soyisim.split()[0]\n",
    "    soyisim = isim_soyisim.split()[1]\n",
    "    return isim, soyisim"
   ]
  },
  {
   "cell_type": "code",
   "execution_count": 20,
   "id": "7751d546",
   "metadata": {},
   "outputs": [
    {
     "data": {
      "text/plain": [
       "('Erdal', 'Yılmaz')"
      ]
     },
     "execution_count": 20,
     "metadata": {},
     "output_type": "execute_result"
    }
   ],
   "source": [
    "isim_ayırma('Erdal Yılmaz')"
   ]
  },
  {
   "cell_type": "code",
   "execution_count": 21,
   "id": "09af59d1",
   "metadata": {},
   "outputs": [
    {
     "name": "stdout",
     "output_type": "stream",
     "text": [
      "Erdal\n",
      "Yılmaz\n"
     ]
    }
   ],
   "source": [
    "a,b = isim_ayırma('Erdal Yılmaz')\n",
    "print(a)\n",
    "print(b)"
   ]
  },
  {
   "cell_type": "code",
   "execution_count": 2,
   "id": "81da59af",
   "metadata": {},
   "outputs": [],
   "source": [
    "sayılar = list(range(1,11))\n"
   ]
  },
  {
   "cell_type": "code",
   "execution_count": 3,
   "id": "82b1ea55",
   "metadata": {},
   "outputs": [
    {
     "data": {
      "text/plain": [
       "[1, 2, 3, 4, 5, 6, 7, 8, 9, 10]"
      ]
     },
     "execution_count": 3,
     "metadata": {},
     "output_type": "execute_result"
    }
   ],
   "source": [
    "sayılar"
   ]
  },
  {
   "cell_type": "code",
   "execution_count": 4,
   "id": "51636b3e",
   "metadata": {},
   "outputs": [
    {
     "data": {
      "text/plain": [
       "[1, 4, 9, 16, 25, 36, 49, 64, 81, 100]"
      ]
     },
     "execution_count": 4,
     "metadata": {},
     "output_type": "execute_result"
    }
   ],
   "source": [
    "list(map(lambda x: x**2, sayılar))"
   ]
  },
  {
   "cell_type": "code",
   "execution_count": 5,
   "id": "0ff19c17",
   "metadata": {},
   "outputs": [
    {
     "data": {
      "text/plain": [
       "[2, 4, 6, 8, 10]"
      ]
     },
     "execution_count": 5,
     "metadata": {},
     "output_type": "execute_result"
    }
   ],
   "source": [
    "list(filter(lambda x: x if x%2==0 else None, sayılar))\n"
   ]
  },
  {
   "cell_type": "code",
   "execution_count": 6,
   "id": "46a1d184",
   "metadata": {},
   "outputs": [
    {
     "data": {
      "text/plain": [
       "[2, 4, 6, 8, 10]"
      ]
     },
     "execution_count": 6,
     "metadata": {},
     "output_type": "execute_result"
    }
   ],
   "source": [
    "list(filter(lambda x: x if x%2==0 else None, sayılar))"
   ]
  },
  {
   "cell_type": "code",
   "execution_count": 7,
   "id": "9eb5c578",
   "metadata": {},
   "outputs": [
    {
     "data": {
      "text/plain": [
       "[None, 4, None, 16, None, 36, None, 64, None, 100]"
      ]
     },
     "execution_count": 7,
     "metadata": {},
     "output_type": "execute_result"
    }
   ],
   "source": [
    "list(map(lambda x: x**2 if x%2==0 else None, sayılar))"
   ]
  },
  {
   "cell_type": "code",
   "execution_count": 9,
   "id": "26aed312",
   "metadata": {},
   "outputs": [
    {
     "data": {
      "text/plain": [
       "[None, 4, None, 16, None, 36, None, 64, None, 100]"
      ]
     },
     "execution_count": 9,
     "metadata": {},
     "output_type": "execute_result"
    }
   ],
   "source": [
    "list(map(lambda x: x**2 if x%2==0 else None, sayılar))"
   ]
  },
  {
   "cell_type": "code",
   "execution_count": null,
   "id": "92d97f48",
   "metadata": {},
   "outputs": [],
   "source": []
  }
 ],
 "metadata": {
  "kernelspec": {
   "display_name": "Python 3 (ipykernel)",
   "language": "python",
   "name": "python3"
  },
  "language_info": {
   "codemirror_mode": {
    "name": "ipython",
    "version": 3
   },
   "file_extension": ".py",
   "mimetype": "text/x-python",
   "name": "python",
   "nbconvert_exporter": "python",
   "pygments_lexer": "ipython3",
   "version": "3.9.7"
  }
 },
 "nbformat": 4,
 "nbformat_minor": 5
}
